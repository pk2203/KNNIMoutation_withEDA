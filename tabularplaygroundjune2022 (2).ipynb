{
 "cells": [
  {
   "cell_type": "code",
   "execution_count": 1,
   "id": "20bd4e1b",
   "metadata": {
    "_cell_guid": "b1076dfc-b9ad-4769-8c92-a6c4dae69d19",
    "_uuid": "8f2839f25d086af736a60e9eeb907d3b93b6e0e5",
    "execution": {
     "iopub.execute_input": "2022-06-18T21:05:17.706496Z",
     "iopub.status.busy": "2022-06-18T21:05:17.706031Z",
     "iopub.status.idle": "2022-06-18T21:05:17.719912Z",
     "shell.execute_reply": "2022-06-18T21:05:17.718697Z"
    },
    "papermill": {
     "duration": 0.034781,
     "end_time": "2022-06-18T21:05:17.725861",
     "exception": false,
     "start_time": "2022-06-18T21:05:17.691080",
     "status": "completed"
    },
    "tags": []
   },
   "outputs": [
    {
     "name": "stdout",
     "output_type": "stream",
     "text": [
      "/kaggle/input/tabular-playground-series-jun-2022/sample_submission.csv\n",
      "/kaggle/input/tabular-playground-series-jun-2022/data.csv\n"
     ]
    }
   ],
   "source": [
    "# This Python 3 environment comes with many helpful analytics libraries installed\n",
    "# It is defined by the kaggle/python Docker image: https://github.com/kaggle/docker-python\n",
    "# For example, here's several helpful packages to load\n",
    "\n",
    "import numpy as np # linear algebra\n",
    "import pandas as pd # data processing, CSV file I/O (e.g. pd.read_csv)\n",
    "import math\n",
    "\n",
    "# Input data files are available in the read-only \"../input/\" directory\n",
    "# For example, running this (by clicking run or pressing Shift+Enter) will list all files under the input directory\n",
    "\n",
    "import os\n",
    "for dirname, _, filenames in os.walk('/kaggle/input'):\n",
    "    for filename in filenames:\n",
    "        print(os.path.join(dirname, filename))\n",
    "\n",
    "# You can write up to 20GB to the current directory (/kaggle/working/) that gets preserved as output when you create a version using \"Save & Run All\" \n",
    "# You can also write temporary files to /kaggle/temp/, but they won't be saved outside of the current session"
   ]
  },
  {
   "cell_type": "code",
   "execution_count": 2,
   "id": "ecd29058",
   "metadata": {
    "execution": {
     "iopub.execute_input": "2022-06-18T21:05:17.749253Z",
     "iopub.status.busy": "2022-06-18T21:05:17.748657Z",
     "iopub.status.idle": "2022-06-18T21:05:18.873498Z",
     "shell.execute_reply": "2022-06-18T21:05:18.872711Z"
    },
    "papermill": {
     "duration": 1.139431,
     "end_time": "2022-06-18T21:05:18.875721",
     "exception": false,
     "start_time": "2022-06-18T21:05:17.736290",
     "status": "completed"
    },
    "tags": []
   },
   "outputs": [],
   "source": [
    "import seaborn as sns\n",
    "import matplotlib.pyplot as plt "
   ]
  },
  {
   "cell_type": "code",
   "execution_count": 3,
   "id": "61878ab3",
   "metadata": {
    "execution": {
     "iopub.execute_input": "2022-06-18T21:05:18.897284Z",
     "iopub.status.busy": "2022-06-18T21:05:18.896684Z",
     "iopub.status.idle": "2022-06-18T21:05:36.073643Z",
     "shell.execute_reply": "2022-06-18T21:05:36.072686Z"
    },
    "papermill": {
     "duration": 17.189959,
     "end_time": "2022-06-18T21:05:36.075697",
     "exception": false,
     "start_time": "2022-06-18T21:05:18.885738",
     "status": "completed"
    },
    "tags": []
   },
   "outputs": [
    {
     "data": {
      "text/html": [
       "<div>\n",
       "<style scoped>\n",
       "    .dataframe tbody tr th:only-of-type {\n",
       "        vertical-align: middle;\n",
       "    }\n",
       "\n",
       "    .dataframe tbody tr th {\n",
       "        vertical-align: top;\n",
       "    }\n",
       "\n",
       "    .dataframe thead th {\n",
       "        text-align: right;\n",
       "    }\n",
       "</style>\n",
       "<table border=\"1\" class=\"dataframe\">\n",
       "  <thead>\n",
       "    <tr style=\"text-align: right;\">\n",
       "      <th></th>\n",
       "      <th>row_id</th>\n",
       "      <th>F_1_0</th>\n",
       "      <th>F_1_1</th>\n",
       "      <th>F_1_2</th>\n",
       "      <th>F_1_3</th>\n",
       "      <th>F_1_4</th>\n",
       "      <th>F_1_5</th>\n",
       "      <th>F_1_6</th>\n",
       "      <th>F_1_7</th>\n",
       "      <th>F_1_8</th>\n",
       "      <th>...</th>\n",
       "      <th>F_4_5</th>\n",
       "      <th>F_4_6</th>\n",
       "      <th>F_4_7</th>\n",
       "      <th>F_4_8</th>\n",
       "      <th>F_4_9</th>\n",
       "      <th>F_4_10</th>\n",
       "      <th>F_4_11</th>\n",
       "      <th>F_4_12</th>\n",
       "      <th>F_4_13</th>\n",
       "      <th>F_4_14</th>\n",
       "    </tr>\n",
       "  </thead>\n",
       "  <tbody>\n",
       "    <tr>\n",
       "      <th>0</th>\n",
       "      <td>0</td>\n",
       "      <td>-0.354591</td>\n",
       "      <td>-0.464038</td>\n",
       "      <td>2.304115</td>\n",
       "      <td>0.734486</td>\n",
       "      <td>1.696395</td>\n",
       "      <td>0.136285</td>\n",
       "      <td>-0.518344</td>\n",
       "      <td>0.502640</td>\n",
       "      <td>-1.852504</td>\n",
       "      <td>...</td>\n",
       "      <td>3.744152</td>\n",
       "      <td>0.794438</td>\n",
       "      <td>0.265185</td>\n",
       "      <td>-0.561809</td>\n",
       "      <td>0.196480</td>\n",
       "      <td>0.373434</td>\n",
       "      <td>6.206995</td>\n",
       "      <td>3.809505</td>\n",
       "      <td>1.236486</td>\n",
       "      <td>1.182055</td>\n",
       "    </tr>\n",
       "    <tr>\n",
       "      <th>1</th>\n",
       "      <td>1</td>\n",
       "      <td>1.380940</td>\n",
       "      <td>-0.499626</td>\n",
       "      <td>-0.418548</td>\n",
       "      <td>1.911725</td>\n",
       "      <td>-0.826130</td>\n",
       "      <td>-1.715371</td>\n",
       "      <td>-0.577091</td>\n",
       "      <td>-1.041486</td>\n",
       "      <td>0.596067</td>\n",
       "      <td>...</td>\n",
       "      <td>-2.895826</td>\n",
       "      <td>-0.738275</td>\n",
       "      <td>2.361818</td>\n",
       "      <td>-0.060753</td>\n",
       "      <td>0.727249</td>\n",
       "      <td>-0.271882</td>\n",
       "      <td>5.232157</td>\n",
       "      <td>-4.218259</td>\n",
       "      <td>-2.724883</td>\n",
       "      <td>-0.063775</td>\n",
       "    </tr>\n",
       "    <tr>\n",
       "      <th>2</th>\n",
       "      <td>2</td>\n",
       "      <td>0.256023</td>\n",
       "      <td>-1.059874</td>\n",
       "      <td>NaN</td>\n",
       "      <td>0.345678</td>\n",
       "      <td>1.513814</td>\n",
       "      <td>1.243864</td>\n",
       "      <td>-0.509648</td>\n",
       "      <td>-0.800481</td>\n",
       "      <td>-0.115945</td>\n",
       "      <td>...</td>\n",
       "      <td>2.252834</td>\n",
       "      <td>0.472496</td>\n",
       "      <td>2.491386</td>\n",
       "      <td>0.353381</td>\n",
       "      <td>-0.260682</td>\n",
       "      <td>-0.000833</td>\n",
       "      <td>-0.116457</td>\n",
       "      <td>-2.131747</td>\n",
       "      <td>3.661499</td>\n",
       "      <td>-0.131576</td>\n",
       "    </tr>\n",
       "    <tr>\n",
       "      <th>3</th>\n",
       "      <td>3</td>\n",
       "      <td>-0.728420</td>\n",
       "      <td>-2.432399</td>\n",
       "      <td>-2.453602</td>\n",
       "      <td>-0.020509</td>\n",
       "      <td>0.333397</td>\n",
       "      <td>0.086049</td>\n",
       "      <td>-1.787601</td>\n",
       "      <td>0.667011</td>\n",
       "      <td>0.761564</td>\n",
       "      <td>...</td>\n",
       "      <td>2.004600</td>\n",
       "      <td>-4.664806</td>\n",
       "      <td>-0.847211</td>\n",
       "      <td>-0.264249</td>\n",
       "      <td>0.664334</td>\n",
       "      <td>-0.557868</td>\n",
       "      <td>8.499483</td>\n",
       "      <td>-4.738799</td>\n",
       "      <td>-3.054611</td>\n",
       "      <td>0.494152</td>\n",
       "    </tr>\n",
       "    <tr>\n",
       "      <th>4</th>\n",
       "      <td>4</td>\n",
       "      <td>0.590212</td>\n",
       "      <td>-0.066127</td>\n",
       "      <td>0.468009</td>\n",
       "      <td>-1.096038</td>\n",
       "      <td>0.119399</td>\n",
       "      <td>-1.809710</td>\n",
       "      <td>0.466358</td>\n",
       "      <td>-0.053196</td>\n",
       "      <td>-0.580320</td>\n",
       "      <td>...</td>\n",
       "      <td>0.976937</td>\n",
       "      <td>2.558883</td>\n",
       "      <td>3.377724</td>\n",
       "      <td>0.846891</td>\n",
       "      <td>0.696032</td>\n",
       "      <td>0.554121</td>\n",
       "      <td>-5.979714</td>\n",
       "      <td>-2.869631</td>\n",
       "      <td>3.733057</td>\n",
       "      <td>-0.722943</td>\n",
       "    </tr>\n",
       "  </tbody>\n",
       "</table>\n",
       "<p>5 rows × 81 columns</p>\n",
       "</div>"
      ],
      "text/plain": [
       "   row_id     F_1_0     F_1_1     F_1_2     F_1_3     F_1_4     F_1_5  \\\n",
       "0       0 -0.354591 -0.464038  2.304115  0.734486  1.696395  0.136285   \n",
       "1       1  1.380940 -0.499626 -0.418548  1.911725 -0.826130 -1.715371   \n",
       "2       2  0.256023 -1.059874       NaN  0.345678  1.513814  1.243864   \n",
       "3       3 -0.728420 -2.432399 -2.453602 -0.020509  0.333397  0.086049   \n",
       "4       4  0.590212 -0.066127  0.468009 -1.096038  0.119399 -1.809710   \n",
       "\n",
       "      F_1_6     F_1_7     F_1_8  ...     F_4_5     F_4_6     F_4_7     F_4_8  \\\n",
       "0 -0.518344  0.502640 -1.852504  ...  3.744152  0.794438  0.265185 -0.561809   \n",
       "1 -0.577091 -1.041486  0.596067  ... -2.895826 -0.738275  2.361818 -0.060753   \n",
       "2 -0.509648 -0.800481 -0.115945  ...  2.252834  0.472496  2.491386  0.353381   \n",
       "3 -1.787601  0.667011  0.761564  ...  2.004600 -4.664806 -0.847211 -0.264249   \n",
       "4  0.466358 -0.053196 -0.580320  ...  0.976937  2.558883  3.377724  0.846891   \n",
       "\n",
       "      F_4_9    F_4_10    F_4_11    F_4_12    F_4_13    F_4_14  \n",
       "0  0.196480  0.373434  6.206995  3.809505  1.236486  1.182055  \n",
       "1  0.727249 -0.271882  5.232157 -4.218259 -2.724883 -0.063775  \n",
       "2 -0.260682 -0.000833 -0.116457 -2.131747  3.661499 -0.131576  \n",
       "3  0.664334 -0.557868  8.499483 -4.738799 -3.054611  0.494152  \n",
       "4  0.696032  0.554121 -5.979714 -2.869631  3.733057 -0.722943  \n",
       "\n",
       "[5 rows x 81 columns]"
      ]
     },
     "execution_count": 3,
     "metadata": {},
     "output_type": "execute_result"
    }
   ],
   "source": [
    "df = pd.read_csv('../input/tabular-playground-series-jun-2022/data.csv')\n",
    "res = pd.read_csv('../input/tabular-playground-series-jun-2022/sample_submission.csv')\n",
    "df.head()"
   ]
  },
  {
   "cell_type": "code",
   "execution_count": 4,
   "id": "ac7cf7b7",
   "metadata": {
    "execution": {
     "iopub.execute_input": "2022-06-18T21:05:36.097963Z",
     "iopub.status.busy": "2022-06-18T21:05:36.097416Z",
     "iopub.status.idle": "2022-06-18T21:05:36.271648Z",
     "shell.execute_reply": "2022-06-18T21:05:36.270865Z"
    },
    "papermill": {
     "duration": 0.187702,
     "end_time": "2022-06-18T21:05:36.273707",
     "exception": false,
     "start_time": "2022-06-18T21:05:36.086005",
     "status": "completed"
    },
    "tags": []
   },
   "outputs": [],
   "source": [
    "df.drop('row_id',axis=1,inplace = True)"
   ]
  },
  {
   "cell_type": "code",
   "execution_count": 5,
   "id": "b30592fc",
   "metadata": {
    "execution": {
     "iopub.execute_input": "2022-06-18T21:05:36.296037Z",
     "iopub.status.busy": "2022-06-18T21:05:36.295522Z",
     "iopub.status.idle": "2022-06-18T21:05:36.468684Z",
     "shell.execute_reply": "2022-06-18T21:05:36.467810Z"
    },
    "papermill": {
     "duration": 0.188004,
     "end_time": "2022-06-18T21:05:36.471893",
     "exception": false,
     "start_time": "2022-06-18T21:05:36.283889",
     "status": "completed"
    },
    "tags": []
   },
   "outputs": [
    {
     "name": "stdout",
     "output_type": "stream",
     "text": [
      "<class 'pandas.core.frame.DataFrame'>\n",
      "RangeIndex: 1000000 entries, 0 to 999999\n",
      "Data columns (total 80 columns):\n",
      " #   Column  Non-Null Count    Dtype  \n",
      "---  ------  --------------    -----  \n",
      " 0   F_1_0   981603 non-null   float64\n",
      " 1   F_1_1   981784 non-null   float64\n",
      " 2   F_1_2   981992 non-null   float64\n",
      " 3   F_1_3   981750 non-null   float64\n",
      " 4   F_1_4   981678 non-null   float64\n",
      " 5   F_1_5   981911 non-null   float64\n",
      " 6   F_1_6   981867 non-null   float64\n",
      " 7   F_1_7   981872 non-null   float64\n",
      " 8   F_1_8   981838 non-null   float64\n",
      " 9   F_1_9   981751 non-null   float64\n",
      " 10  F_1_10  982039 non-null   float64\n",
      " 11  F_1_11  981830 non-null   float64\n",
      " 12  F_1_12  981797 non-null   float64\n",
      " 13  F_1_13  981602 non-null   float64\n",
      " 14  F_1_14  981961 non-null   float64\n",
      " 15  F_2_0   1000000 non-null  int64  \n",
      " 16  F_2_1   1000000 non-null  int64  \n",
      " 17  F_2_2   1000000 non-null  int64  \n",
      " 18  F_2_3   1000000 non-null  int64  \n",
      " 19  F_2_4   1000000 non-null  int64  \n",
      " 20  F_2_5   1000000 non-null  int64  \n",
      " 21  F_2_6   1000000 non-null  int64  \n",
      " 22  F_2_7   1000000 non-null  int64  \n",
      " 23  F_2_8   1000000 non-null  int64  \n",
      " 24  F_2_9   1000000 non-null  int64  \n",
      " 25  F_2_10  1000000 non-null  int64  \n",
      " 26  F_2_11  1000000 non-null  int64  \n",
      " 27  F_2_12  1000000 non-null  int64  \n",
      " 28  F_2_13  1000000 non-null  int64  \n",
      " 29  F_2_14  1000000 non-null  int64  \n",
      " 30  F_2_15  1000000 non-null  int64  \n",
      " 31  F_2_16  1000000 non-null  int64  \n",
      " 32  F_2_17  1000000 non-null  int64  \n",
      " 33  F_2_18  1000000 non-null  int64  \n",
      " 34  F_2_19  1000000 non-null  int64  \n",
      " 35  F_2_20  1000000 non-null  int64  \n",
      " 36  F_2_21  1000000 non-null  int64  \n",
      " 37  F_2_22  1000000 non-null  int64  \n",
      " 38  F_2_23  1000000 non-null  int64  \n",
      " 39  F_2_24  1000000 non-null  int64  \n",
      " 40  F_3_0   981971 non-null   float64\n",
      " 41  F_3_1   981655 non-null   float64\n",
      " 42  F_3_2   981944 non-null   float64\n",
      " 43  F_3_3   981946 non-null   float64\n",
      " 44  F_3_4   981627 non-null   float64\n",
      " 45  F_3_5   981702 non-null   float64\n",
      " 46  F_3_6   981808 non-null   float64\n",
      " 47  F_3_7   981987 non-null   float64\n",
      " 48  F_3_8   981902 non-null   float64\n",
      " 49  F_3_9   981894 non-null   float64\n",
      " 50  F_3_10  981800 non-null   float64\n",
      " 51  F_3_11  981612 non-null   float64\n",
      " 52  F_3_12  981703 non-null   float64\n",
      " 53  F_3_13  981940 non-null   float64\n",
      " 54  F_3_14  981861 non-null   float64\n",
      " 55  F_3_15  981762 non-null   float64\n",
      " 56  F_3_16  981878 non-null   float64\n",
      " 57  F_3_17  981722 non-null   float64\n",
      " 58  F_3_18  981911 non-null   float64\n",
      " 59  F_3_19  981800 non-null   float64\n",
      " 60  F_3_20  981752 non-null   float64\n",
      " 61  F_3_21  981604 non-null   float64\n",
      " 62  F_3_22  981823 non-null   float64\n",
      " 63  F_3_23  981794 non-null   float64\n",
      " 64  F_3_24  981855 non-null   float64\n",
      " 65  F_4_0   981872 non-null   float64\n",
      " 66  F_4_1   981836 non-null   float64\n",
      " 67  F_4_2   981505 non-null   float64\n",
      " 68  F_4_3   981971 non-null   float64\n",
      " 69  F_4_4   982043 non-null   float64\n",
      " 70  F_4_5   981937 non-null   float64\n",
      " 71  F_4_6   981675 non-null   float64\n",
      " 72  F_4_7   981986 non-null   float64\n",
      " 73  F_4_8   981824 non-null   float64\n",
      " 74  F_4_9   981735 non-null   float64\n",
      " 75  F_4_10  981775 non-null   float64\n",
      " 76  F_4_11  981881 non-null   float64\n",
      " 77  F_4_12  981694 non-null   float64\n",
      " 78  F_4_13  982005 non-null   float64\n",
      " 79  F_4_14  981733 non-null   float64\n",
      "dtypes: float64(55), int64(25)\n",
      "memory usage: 610.4 MB\n"
     ]
    }
   ],
   "source": [
    "df.info()"
   ]
  },
  {
   "cell_type": "code",
   "execution_count": 6,
   "id": "219ae31f",
   "metadata": {
    "execution": {
     "iopub.execute_input": "2022-06-18T21:05:36.496067Z",
     "iopub.status.busy": "2022-06-18T21:05:36.495503Z",
     "iopub.status.idle": "2022-06-18T21:05:36.503745Z",
     "shell.execute_reply": "2022-06-18T21:05:36.502672Z"
    },
    "papermill": {
     "duration": 0.02251,
     "end_time": "2022-06-18T21:05:36.506156",
     "exception": false,
     "start_time": "2022-06-18T21:05:36.483646",
     "status": "completed"
    },
    "tags": []
   },
   "outputs": [],
   "source": [
    "df.reset_index(inplace = True)"
   ]
  },
  {
   "cell_type": "code",
   "execution_count": 7,
   "id": "169b1957",
   "metadata": {
    "execution": {
     "iopub.execute_input": "2022-06-18T21:05:36.528250Z",
     "iopub.status.busy": "2022-06-18T21:05:36.527855Z",
     "iopub.status.idle": "2022-06-18T21:05:36.549999Z",
     "shell.execute_reply": "2022-06-18T21:05:36.549110Z"
    },
    "papermill": {
     "duration": 0.035573,
     "end_time": "2022-06-18T21:05:36.552020",
     "exception": false,
     "start_time": "2022-06-18T21:05:36.516447",
     "status": "completed"
    },
    "tags": []
   },
   "outputs": [
    {
     "data": {
      "text/html": [
       "<div>\n",
       "<style scoped>\n",
       "    .dataframe tbody tr th:only-of-type {\n",
       "        vertical-align: middle;\n",
       "    }\n",
       "\n",
       "    .dataframe tbody tr th {\n",
       "        vertical-align: top;\n",
       "    }\n",
       "\n",
       "    .dataframe thead th {\n",
       "        text-align: right;\n",
       "    }\n",
       "</style>\n",
       "<table border=\"1\" class=\"dataframe\">\n",
       "  <thead>\n",
       "    <tr style=\"text-align: right;\">\n",
       "      <th></th>\n",
       "      <th>index</th>\n",
       "      <th>F_1_0</th>\n",
       "      <th>F_1_1</th>\n",
       "      <th>F_1_2</th>\n",
       "      <th>F_1_3</th>\n",
       "      <th>F_1_4</th>\n",
       "      <th>F_1_5</th>\n",
       "      <th>F_1_6</th>\n",
       "      <th>F_1_7</th>\n",
       "      <th>F_1_8</th>\n",
       "      <th>...</th>\n",
       "      <th>F_4_5</th>\n",
       "      <th>F_4_6</th>\n",
       "      <th>F_4_7</th>\n",
       "      <th>F_4_8</th>\n",
       "      <th>F_4_9</th>\n",
       "      <th>F_4_10</th>\n",
       "      <th>F_4_11</th>\n",
       "      <th>F_4_12</th>\n",
       "      <th>F_4_13</th>\n",
       "      <th>F_4_14</th>\n",
       "    </tr>\n",
       "  </thead>\n",
       "  <tbody>\n",
       "    <tr>\n",
       "      <th>0</th>\n",
       "      <td>0</td>\n",
       "      <td>-0.354591</td>\n",
       "      <td>-0.464038</td>\n",
       "      <td>2.304115</td>\n",
       "      <td>0.734486</td>\n",
       "      <td>1.696395</td>\n",
       "      <td>0.136285</td>\n",
       "      <td>-0.518344</td>\n",
       "      <td>0.502640</td>\n",
       "      <td>-1.852504</td>\n",
       "      <td>...</td>\n",
       "      <td>3.744152</td>\n",
       "      <td>0.794438</td>\n",
       "      <td>0.265185</td>\n",
       "      <td>-0.561809</td>\n",
       "      <td>0.196480</td>\n",
       "      <td>0.373434</td>\n",
       "      <td>6.206995</td>\n",
       "      <td>3.809505</td>\n",
       "      <td>1.236486</td>\n",
       "      <td>1.182055</td>\n",
       "    </tr>\n",
       "    <tr>\n",
       "      <th>1</th>\n",
       "      <td>1</td>\n",
       "      <td>1.380940</td>\n",
       "      <td>-0.499626</td>\n",
       "      <td>-0.418548</td>\n",
       "      <td>1.911725</td>\n",
       "      <td>-0.826130</td>\n",
       "      <td>-1.715371</td>\n",
       "      <td>-0.577091</td>\n",
       "      <td>-1.041486</td>\n",
       "      <td>0.596067</td>\n",
       "      <td>...</td>\n",
       "      <td>-2.895826</td>\n",
       "      <td>-0.738275</td>\n",
       "      <td>2.361818</td>\n",
       "      <td>-0.060753</td>\n",
       "      <td>0.727249</td>\n",
       "      <td>-0.271882</td>\n",
       "      <td>5.232157</td>\n",
       "      <td>-4.218259</td>\n",
       "      <td>-2.724883</td>\n",
       "      <td>-0.063775</td>\n",
       "    </tr>\n",
       "    <tr>\n",
       "      <th>2</th>\n",
       "      <td>2</td>\n",
       "      <td>0.256023</td>\n",
       "      <td>-1.059874</td>\n",
       "      <td>NaN</td>\n",
       "      <td>0.345678</td>\n",
       "      <td>1.513814</td>\n",
       "      <td>1.243864</td>\n",
       "      <td>-0.509648</td>\n",
       "      <td>-0.800481</td>\n",
       "      <td>-0.115945</td>\n",
       "      <td>...</td>\n",
       "      <td>2.252834</td>\n",
       "      <td>0.472496</td>\n",
       "      <td>2.491386</td>\n",
       "      <td>0.353381</td>\n",
       "      <td>-0.260682</td>\n",
       "      <td>-0.000833</td>\n",
       "      <td>-0.116457</td>\n",
       "      <td>-2.131747</td>\n",
       "      <td>3.661499</td>\n",
       "      <td>-0.131576</td>\n",
       "    </tr>\n",
       "    <tr>\n",
       "      <th>3</th>\n",
       "      <td>3</td>\n",
       "      <td>-0.728420</td>\n",
       "      <td>-2.432399</td>\n",
       "      <td>-2.453602</td>\n",
       "      <td>-0.020509</td>\n",
       "      <td>0.333397</td>\n",
       "      <td>0.086049</td>\n",
       "      <td>-1.787601</td>\n",
       "      <td>0.667011</td>\n",
       "      <td>0.761564</td>\n",
       "      <td>...</td>\n",
       "      <td>2.004600</td>\n",
       "      <td>-4.664806</td>\n",
       "      <td>-0.847211</td>\n",
       "      <td>-0.264249</td>\n",
       "      <td>0.664334</td>\n",
       "      <td>-0.557868</td>\n",
       "      <td>8.499483</td>\n",
       "      <td>-4.738799</td>\n",
       "      <td>-3.054611</td>\n",
       "      <td>0.494152</td>\n",
       "    </tr>\n",
       "    <tr>\n",
       "      <th>4</th>\n",
       "      <td>4</td>\n",
       "      <td>0.590212</td>\n",
       "      <td>-0.066127</td>\n",
       "      <td>0.468009</td>\n",
       "      <td>-1.096038</td>\n",
       "      <td>0.119399</td>\n",
       "      <td>-1.809710</td>\n",
       "      <td>0.466358</td>\n",
       "      <td>-0.053196</td>\n",
       "      <td>-0.580320</td>\n",
       "      <td>...</td>\n",
       "      <td>0.976937</td>\n",
       "      <td>2.558883</td>\n",
       "      <td>3.377724</td>\n",
       "      <td>0.846891</td>\n",
       "      <td>0.696032</td>\n",
       "      <td>0.554121</td>\n",
       "      <td>-5.979714</td>\n",
       "      <td>-2.869631</td>\n",
       "      <td>3.733057</td>\n",
       "      <td>-0.722943</td>\n",
       "    </tr>\n",
       "  </tbody>\n",
       "</table>\n",
       "<p>5 rows × 81 columns</p>\n",
       "</div>"
      ],
      "text/plain": [
       "   index     F_1_0     F_1_1     F_1_2     F_1_3     F_1_4     F_1_5  \\\n",
       "0      0 -0.354591 -0.464038  2.304115  0.734486  1.696395  0.136285   \n",
       "1      1  1.380940 -0.499626 -0.418548  1.911725 -0.826130 -1.715371   \n",
       "2      2  0.256023 -1.059874       NaN  0.345678  1.513814  1.243864   \n",
       "3      3 -0.728420 -2.432399 -2.453602 -0.020509  0.333397  0.086049   \n",
       "4      4  0.590212 -0.066127  0.468009 -1.096038  0.119399 -1.809710   \n",
       "\n",
       "      F_1_6     F_1_7     F_1_8  ...     F_4_5     F_4_6     F_4_7     F_4_8  \\\n",
       "0 -0.518344  0.502640 -1.852504  ...  3.744152  0.794438  0.265185 -0.561809   \n",
       "1 -0.577091 -1.041486  0.596067  ... -2.895826 -0.738275  2.361818 -0.060753   \n",
       "2 -0.509648 -0.800481 -0.115945  ...  2.252834  0.472496  2.491386  0.353381   \n",
       "3 -1.787601  0.667011  0.761564  ...  2.004600 -4.664806 -0.847211 -0.264249   \n",
       "4  0.466358 -0.053196 -0.580320  ...  0.976937  2.558883  3.377724  0.846891   \n",
       "\n",
       "      F_4_9    F_4_10    F_4_11    F_4_12    F_4_13    F_4_14  \n",
       "0  0.196480  0.373434  6.206995  3.809505  1.236486  1.182055  \n",
       "1  0.727249 -0.271882  5.232157 -4.218259 -2.724883 -0.063775  \n",
       "2 -0.260682 -0.000833 -0.116457 -2.131747  3.661499 -0.131576  \n",
       "3  0.664334 -0.557868  8.499483 -4.738799 -3.054611  0.494152  \n",
       "4  0.696032  0.554121 -5.979714 -2.869631  3.733057 -0.722943  \n",
       "\n",
       "[5 rows x 81 columns]"
      ]
     },
     "execution_count": 7,
     "metadata": {},
     "output_type": "execute_result"
    }
   ],
   "source": [
    "df.head()"
   ]
  },
  {
   "cell_type": "code",
   "execution_count": 8,
   "id": "bea8e944",
   "metadata": {
    "execution": {
     "iopub.execute_input": "2022-06-18T21:05:36.575484Z",
     "iopub.status.busy": "2022-06-18T21:05:36.575077Z",
     "iopub.status.idle": "2022-06-18T21:05:36.580892Z",
     "shell.execute_reply": "2022-06-18T21:05:36.579898Z"
    },
    "papermill": {
     "duration": 0.020026,
     "end_time": "2022-06-18T21:05:36.583113",
     "exception": false,
     "start_time": "2022-06-18T21:05:36.563087",
     "status": "completed"
    },
    "tags": []
   },
   "outputs": [
    {
     "data": {
      "text/plain": [
       "(1000000, 81)"
      ]
     },
     "execution_count": 8,
     "metadata": {},
     "output_type": "execute_result"
    }
   ],
   "source": [
    "df.shape"
   ]
  },
  {
   "cell_type": "code",
   "execution_count": 9,
   "id": "55f70bb6",
   "metadata": {
    "execution": {
     "iopub.execute_input": "2022-06-18T21:05:36.606205Z",
     "iopub.status.busy": "2022-06-18T21:05:36.605460Z",
     "iopub.status.idle": "2022-06-18T21:05:36.984878Z",
     "shell.execute_reply": "2022-06-18T21:05:36.983996Z"
    },
    "papermill": {
     "duration": 0.393674,
     "end_time": "2022-06-18T21:05:36.987229",
     "exception": false,
     "start_time": "2022-06-18T21:05:36.593555",
     "status": "completed"
    },
    "tags": []
   },
   "outputs": [],
   "source": [
    "df.drop(['index'],axis = 1,inplace = True)"
   ]
  },
  {
   "cell_type": "code",
   "execution_count": 10,
   "id": "5f79e4a5",
   "metadata": {
    "execution": {
     "iopub.execute_input": "2022-06-18T21:05:37.009500Z",
     "iopub.status.busy": "2022-06-18T21:05:37.009111Z",
     "iopub.status.idle": "2022-06-18T21:06:43.832927Z",
     "shell.execute_reply": "2022-06-18T21:06:43.831766Z"
    },
    "papermill": {
     "duration": 66.85859,
     "end_time": "2022-06-18T21:06:43.856221",
     "exception": false,
     "start_time": "2022-06-18T21:05:36.997631",
     "status": "completed"
    },
    "tags": []
   },
   "outputs": [
    {
     "data": {
      "image/png": "[encoded data removed]",
      "text/plain": [
       "<Figure size 1440x8064 with 80 Axes>"
      ]
     },
     "metadata": {
      "needs_background": "light"
     },
     "output_type": "display_data"
    }
   ],
   "source": [
    "def dist_plot(data):\n",
    "    fig,axes = plt.subplots(nrows = 20, ncols = 4, figsize=(20,112))\n",
    "    for ind in range(data.shape[1]):\n",
    "        val = df.iloc[:,ind]\n",
    "        i, j = ind//4, ind%4\n",
    "        if val.dtype == \"int64\":\n",
    "            sns.countplot(x=val, data = data, ax = axes[i,j])\n",
    "        else:\n",
    "            sns.histplot(x=val,data = data, ax = axes[i,j])\n",
    "    axes[i,j].set_title(data.columns[ind])\n",
    "    plt.show()\n",
    "    \n",
    "dist_plot(df)"
   ]
  },
  {
   "cell_type": "code",
   "execution_count": 11,
   "id": "8afdb3ba",
   "metadata": {
    "execution": {
     "iopub.execute_input": "2022-06-18T21:06:43.891679Z",
     "iopub.status.busy": "2022-06-18T21:06:43.891110Z",
     "iopub.status.idle": "2022-06-18T21:06:43.899303Z",
     "shell.execute_reply": "2022-06-18T21:06:43.898655Z"
    },
    "papermill": {
     "duration": 0.028285,
     "end_time": "2022-06-18T21:06:43.901280",
     "exception": false,
     "start_time": "2022-06-18T21:06:43.872995",
     "status": "completed"
    },
    "tags": []
   },
   "outputs": [],
   "source": [
    "categorical = []\n",
    "numerical = []\n",
    "for col in df.columns:\n",
    "    if df[col].dtype == \"int64\":\n",
    "        categorical.append(df[col])\n",
    "    else:\n",
    "        numerical.append(df[col])\n",
    "    "
   ]
  },
  {
   "cell_type": "code",
   "execution_count": 12,
   "id": "ef9f986f",
   "metadata": {
    "execution": {
     "iopub.execute_input": "2022-06-18T21:06:43.936730Z",
     "iopub.status.busy": "2022-06-18T21:06:43.936133Z",
     "iopub.status.idle": "2022-06-18T21:06:56.151879Z",
     "shell.execute_reply": "2022-06-18T21:06:56.151006Z"
    },
    "papermill": {
     "duration": 12.235831,
     "end_time": "2022-06-18T21:06:56.153717",
     "exception": false,
     "start_time": "2022-06-18T21:06:43.917886",
     "status": "completed"
    },
    "tags": []
   },
   "outputs": [
    {
     "data": {
      "text/html": [
       "<div>\n",
       "<style scoped>\n",
       "    .dataframe tbody tr th:only-of-type {\n",
       "        vertical-align: middle;\n",
       "    }\n",
       "\n",
       "    .dataframe tbody tr th {\n",
       "        vertical-align: top;\n",
       "    }\n",
       "\n",
       "    .dataframe thead th {\n",
       "        text-align: right;\n",
       "    }\n",
       "</style>\n",
       "<table border=\"1\" class=\"dataframe\">\n",
       "  <thead>\n",
       "    <tr style=\"text-align: right;\">\n",
       "      <th></th>\n",
       "      <th>0</th>\n",
       "      <th>1</th>\n",
       "      <th>2</th>\n",
       "      <th>3</th>\n",
       "      <th>4</th>\n",
       "      <th>5</th>\n",
       "      <th>6</th>\n",
       "      <th>7</th>\n",
       "      <th>8</th>\n",
       "      <th>9</th>\n",
       "      <th>...</th>\n",
       "      <th>999990</th>\n",
       "      <th>999991</th>\n",
       "      <th>999992</th>\n",
       "      <th>999993</th>\n",
       "      <th>999994</th>\n",
       "      <th>999995</th>\n",
       "      <th>999996</th>\n",
       "      <th>999997</th>\n",
       "      <th>999998</th>\n",
       "      <th>999999</th>\n",
       "    </tr>\n",
       "  </thead>\n",
       "  <tbody>\n",
       "    <tr>\n",
       "      <th>F_1_0</th>\n",
       "      <td>-0.354591</td>\n",
       "      <td>1.380940</td>\n",
       "      <td>0.256023</td>\n",
       "      <td>-0.728420</td>\n",
       "      <td>0.590212</td>\n",
       "      <td>0.088609</td>\n",
       "      <td>0.533210</td>\n",
       "      <td>-1.737332</td>\n",
       "      <td>-0.334935</td>\n",
       "      <td>0.144170</td>\n",
       "      <td>...</td>\n",
       "      <td>1.227262</td>\n",
       "      <td>NaN</td>\n",
       "      <td>-2.379389</td>\n",
       "      <td>-0.299765</td>\n",
       "      <td>0.147997</td>\n",
       "      <td>-0.823740</td>\n",
       "      <td>-0.769106</td>\n",
       "      <td>0.147534</td>\n",
       "      <td>-1.709886</td>\n",
       "      <td>-0.806380</td>\n",
       "    </tr>\n",
       "    <tr>\n",
       "      <th>F_1_1</th>\n",
       "      <td>-0.464038</td>\n",
       "      <td>-0.499626</td>\n",
       "      <td>-1.059874</td>\n",
       "      <td>-2.432399</td>\n",
       "      <td>-0.066127</td>\n",
       "      <td>NaN</td>\n",
       "      <td>1.662285</td>\n",
       "      <td>-1.009690</td>\n",
       "      <td>-0.801940</td>\n",
       "      <td>-0.580150</td>\n",
       "      <td>...</td>\n",
       "      <td>1.605984</td>\n",
       "      <td>-0.422000</td>\n",
       "      <td>-2.490550</td>\n",
       "      <td>NaN</td>\n",
       "      <td>1.022144</td>\n",
       "      <td>0.285673</td>\n",
       "      <td>-0.387363</td>\n",
       "      <td>-0.715276</td>\n",
       "      <td>-0.813785</td>\n",
       "      <td>-0.025251</td>\n",
       "    </tr>\n",
       "    <tr>\n",
       "      <th>F_1_2</th>\n",
       "      <td>2.304115</td>\n",
       "      <td>-0.418548</td>\n",
       "      <td>NaN</td>\n",
       "      <td>-2.453602</td>\n",
       "      <td>0.468009</td>\n",
       "      <td>0.270489</td>\n",
       "      <td>0.601138</td>\n",
       "      <td>0.294162</td>\n",
       "      <td>-0.754364</td>\n",
       "      <td>-0.896780</td>\n",
       "      <td>...</td>\n",
       "      <td>0.349811</td>\n",
       "      <td>0.492146</td>\n",
       "      <td>-1.926716</td>\n",
       "      <td>-0.558802</td>\n",
       "      <td>-0.442716</td>\n",
       "      <td>0.343307</td>\n",
       "      <td>-1.227469</td>\n",
       "      <td>-0.465049</td>\n",
       "      <td>-1.866536</td>\n",
       "      <td>-0.875477</td>\n",
       "    </tr>\n",
       "    <tr>\n",
       "      <th>F_1_3</th>\n",
       "      <td>0.734486</td>\n",
       "      <td>1.911725</td>\n",
       "      <td>0.345678</td>\n",
       "      <td>-0.020509</td>\n",
       "      <td>-1.096038</td>\n",
       "      <td>0.251012</td>\n",
       "      <td>-0.662212</td>\n",
       "      <td>1.002915</td>\n",
       "      <td>-0.369206</td>\n",
       "      <td>-0.550178</td>\n",
       "      <td>...</td>\n",
       "      <td>1.432343</td>\n",
       "      <td>-0.964732</td>\n",
       "      <td>1.182715</td>\n",
       "      <td>0.914719</td>\n",
       "      <td>-1.882994</td>\n",
       "      <td>-0.436747</td>\n",
       "      <td>0.601183</td>\n",
       "      <td>-1.988941</td>\n",
       "      <td>-0.179420</td>\n",
       "      <td>0.802440</td>\n",
       "    </tr>\n",
       "    <tr>\n",
       "      <th>F_1_4</th>\n",
       "      <td>1.696395</td>\n",
       "      <td>-0.826130</td>\n",
       "      <td>1.513814</td>\n",
       "      <td>0.333397</td>\n",
       "      <td>0.119399</td>\n",
       "      <td>0.280627</td>\n",
       "      <td>0.033856</td>\n",
       "      <td>0.700551</td>\n",
       "      <td>0.781484</td>\n",
       "      <td>1.231237</td>\n",
       "      <td>...</td>\n",
       "      <td>0.923957</td>\n",
       "      <td>0.315943</td>\n",
       "      <td>-0.005418</td>\n",
       "      <td>-1.086924</td>\n",
       "      <td>1.501444</td>\n",
       "      <td>1.700549</td>\n",
       "      <td>0.351161</td>\n",
       "      <td>-1.594535</td>\n",
       "      <td>2.231478</td>\n",
       "      <td>0.889492</td>\n",
       "    </tr>\n",
       "  </tbody>\n",
       "</table>\n",
       "<p>5 rows × 1000000 columns</p>\n",
       "</div>"
      ],
      "text/plain": [
       "         0         1         2         3         4         5         6       \\\n",
       "F_1_0 -0.354591  1.380940  0.256023 -0.728420  0.590212  0.088609  0.533210   \n",
       "F_1_1 -0.464038 -0.499626 -1.059874 -2.432399 -0.066127       NaN  1.662285   \n",
       "F_1_2  2.304115 -0.418548       NaN -2.453602  0.468009  0.270489  0.601138   \n",
       "F_1_3  0.734486  1.911725  0.345678 -0.020509 -1.096038  0.251012 -0.662212   \n",
       "F_1_4  1.696395 -0.826130  1.513814  0.333397  0.119399  0.280627  0.033856   \n",
       "\n",
       "         7         8         9       ...    999990    999991    999992  \\\n",
       "F_1_0 -1.737332 -0.334935  0.144170  ...  1.227262       NaN -2.379389   \n",
       "F_1_1 -1.009690 -0.801940 -0.580150  ...  1.605984 -0.422000 -2.490550   \n",
       "F_1_2  0.294162 -0.754364 -0.896780  ...  0.349811  0.492146 -1.926716   \n",
       "F_1_3  1.002915 -0.369206 -0.550178  ...  1.432343 -0.964732  1.182715   \n",
       "F_1_4  0.700551  0.781484  1.231237  ...  0.923957  0.315943 -0.005418   \n",
       "\n",
       "         999993    999994    999995    999996    999997    999998    999999  \n",
       "F_1_0 -0.299765  0.147997 -0.823740 -0.769106  0.147534 -1.709886 -0.806380  \n",
       "F_1_1       NaN  1.022144  0.285673 -0.387363 -0.715276 -0.813785 -0.025251  \n",
       "F_1_2 -0.558802 -0.442716  0.343307 -1.227469 -0.465049 -1.866536 -0.875477  \n",
       "F_1_3  0.914719 -1.882994 -0.436747  0.601183 -1.988941 -0.179420  0.802440  \n",
       "F_1_4 -1.086924  1.501444  1.700549  0.351161 -1.594535  2.231478  0.889492  \n",
       "\n",
       "[5 rows x 1000000 columns]"
      ]
     },
     "execution_count": 12,
     "metadata": {},
     "output_type": "execute_result"
    }
   ],
   "source": [
    "df_num = pd.DataFrame(numerical)\n",
    "df_num.head()"
   ]
  },
  {
   "cell_type": "code",
   "execution_count": 13,
   "id": "3cc22599",
   "metadata": {
    "execution": {
     "iopub.execute_input": "2022-06-18T21:06:56.191460Z",
     "iopub.status.busy": "2022-06-18T21:06:56.190474Z",
     "iopub.status.idle": "2022-06-18T21:07:09.263688Z",
     "shell.execute_reply": "2022-06-18T21:07:09.262692Z"
    },
    "papermill": {
     "duration": 13.096356,
     "end_time": "2022-06-18T21:07:09.267885",
     "exception": false,
     "start_time": "2022-06-18T21:06:56.171529",
     "status": "completed"
    },
    "tags": []
   },
   "outputs": [
    {
     "data": {
      "text/html": [
       "<div>\n",
       "<style scoped>\n",
       "    .dataframe tbody tr th:only-of-type {\n",
       "        vertical-align: middle;\n",
       "    }\n",
       "\n",
       "    .dataframe tbody tr th {\n",
       "        vertical-align: top;\n",
       "    }\n",
       "\n",
       "    .dataframe thead th {\n",
       "        text-align: right;\n",
       "    }\n",
       "</style>\n",
       "<table border=\"1\" class=\"dataframe\">\n",
       "  <thead>\n",
       "    <tr style=\"text-align: right;\">\n",
       "      <th></th>\n",
       "      <th>0</th>\n",
       "      <th>1</th>\n",
       "      <th>2</th>\n",
       "      <th>3</th>\n",
       "      <th>4</th>\n",
       "      <th>5</th>\n",
       "      <th>6</th>\n",
       "      <th>7</th>\n",
       "      <th>8</th>\n",
       "      <th>9</th>\n",
       "      <th>...</th>\n",
       "      <th>999990</th>\n",
       "      <th>999991</th>\n",
       "      <th>999992</th>\n",
       "      <th>999993</th>\n",
       "      <th>999994</th>\n",
       "      <th>999995</th>\n",
       "      <th>999996</th>\n",
       "      <th>999997</th>\n",
       "      <th>999998</th>\n",
       "      <th>999999</th>\n",
       "    </tr>\n",
       "  </thead>\n",
       "  <tbody>\n",
       "    <tr>\n",
       "      <th>F_2_0</th>\n",
       "      <td>2</td>\n",
       "      <td>3</td>\n",
       "      <td>3</td>\n",
       "      <td>2</td>\n",
       "      <td>5</td>\n",
       "      <td>1</td>\n",
       "      <td>0</td>\n",
       "      <td>3</td>\n",
       "      <td>8</td>\n",
       "      <td>1</td>\n",
       "      <td>...</td>\n",
       "      <td>5</td>\n",
       "      <td>6</td>\n",
       "      <td>2</td>\n",
       "      <td>2</td>\n",
       "      <td>3</td>\n",
       "      <td>4</td>\n",
       "      <td>0</td>\n",
       "      <td>5</td>\n",
       "      <td>0</td>\n",
       "      <td>2</td>\n",
       "    </tr>\n",
       "    <tr>\n",
       "      <th>F_2_1</th>\n",
       "      <td>2</td>\n",
       "      <td>5</td>\n",
       "      <td>2</td>\n",
       "      <td>3</td>\n",
       "      <td>0</td>\n",
       "      <td>3</td>\n",
       "      <td>4</td>\n",
       "      <td>8</td>\n",
       "      <td>0</td>\n",
       "      <td>1</td>\n",
       "      <td>...</td>\n",
       "      <td>0</td>\n",
       "      <td>2</td>\n",
       "      <td>1</td>\n",
       "      <td>5</td>\n",
       "      <td>0</td>\n",
       "      <td>8</td>\n",
       "      <td>1</td>\n",
       "      <td>3</td>\n",
       "      <td>5</td>\n",
       "      <td>5</td>\n",
       "    </tr>\n",
       "    <tr>\n",
       "      <th>F_2_2</th>\n",
       "      <td>0</td>\n",
       "      <td>2</td>\n",
       "      <td>1</td>\n",
       "      <td>2</td>\n",
       "      <td>1</td>\n",
       "      <td>0</td>\n",
       "      <td>1</td>\n",
       "      <td>2</td>\n",
       "      <td>0</td>\n",
       "      <td>2</td>\n",
       "      <td>...</td>\n",
       "      <td>0</td>\n",
       "      <td>0</td>\n",
       "      <td>0</td>\n",
       "      <td>2</td>\n",
       "      <td>1</td>\n",
       "      <td>1</td>\n",
       "      <td>1</td>\n",
       "      <td>1</td>\n",
       "      <td>0</td>\n",
       "      <td>0</td>\n",
       "    </tr>\n",
       "    <tr>\n",
       "      <th>F_2_3</th>\n",
       "      <td>3</td>\n",
       "      <td>1</td>\n",
       "      <td>3</td>\n",
       "      <td>1</td>\n",
       "      <td>3</td>\n",
       "      <td>2</td>\n",
       "      <td>1</td>\n",
       "      <td>4</td>\n",
       "      <td>5</td>\n",
       "      <td>4</td>\n",
       "      <td>...</td>\n",
       "      <td>1</td>\n",
       "      <td>1</td>\n",
       "      <td>3</td>\n",
       "      <td>3</td>\n",
       "      <td>4</td>\n",
       "      <td>4</td>\n",
       "      <td>5</td>\n",
       "      <td>2</td>\n",
       "      <td>2</td>\n",
       "      <td>2</td>\n",
       "    </tr>\n",
       "    <tr>\n",
       "      <th>F_2_4</th>\n",
       "      <td>2</td>\n",
       "      <td>4</td>\n",
       "      <td>2</td>\n",
       "      <td>1</td>\n",
       "      <td>3</td>\n",
       "      <td>1</td>\n",
       "      <td>2</td>\n",
       "      <td>2</td>\n",
       "      <td>1</td>\n",
       "      <td>4</td>\n",
       "      <td>...</td>\n",
       "      <td>4</td>\n",
       "      <td>6</td>\n",
       "      <td>5</td>\n",
       "      <td>4</td>\n",
       "      <td>2</td>\n",
       "      <td>4</td>\n",
       "      <td>2</td>\n",
       "      <td>1</td>\n",
       "      <td>4</td>\n",
       "      <td>3</td>\n",
       "    </tr>\n",
       "  </tbody>\n",
       "</table>\n",
       "<p>5 rows × 1000000 columns</p>\n",
       "</div>"
      ],
      "text/plain": [
       "       0       1       2       3       4       5       6       7       8       \\\n",
       "F_2_0       2       3       3       2       5       1       0       3       8   \n",
       "F_2_1       2       5       2       3       0       3       4       8       0   \n",
       "F_2_2       0       2       1       2       1       0       1       2       0   \n",
       "F_2_3       3       1       3       1       3       2       1       4       5   \n",
       "F_2_4       2       4       2       1       3       1       2       2       1   \n",
       "\n",
       "       9       ...  999990  999991  999992  999993  999994  999995  999996  \\\n",
       "F_2_0       1  ...       5       6       2       2       3       4       0   \n",
       "F_2_1       1  ...       0       2       1       5       0       8       1   \n",
       "F_2_2       2  ...       0       0       0       2       1       1       1   \n",
       "F_2_3       4  ...       1       1       3       3       4       4       5   \n",
       "F_2_4       4  ...       4       6       5       4       2       4       2   \n",
       "\n",
       "       999997  999998  999999  \n",
       "F_2_0       5       0       2  \n",
       "F_2_1       3       5       5  \n",
       "F_2_2       1       0       0  \n",
       "F_2_3       2       2       2  \n",
       "F_2_4       1       4       3  \n",
       "\n",
       "[5 rows x 1000000 columns]"
      ]
     },
     "execution_count": 13,
     "metadata": {},
     "output_type": "execute_result"
    }
   ],
   "source": [
    "df_cat = pd.DataFrame(categorical)\n",
    "df_cat.head()"
   ]
  },
  {
   "cell_type": "code",
   "execution_count": 14,
   "id": "69529d7e",
   "metadata": {
    "execution": {
     "iopub.execute_input": "2022-06-18T21:07:09.309781Z",
     "iopub.status.busy": "2022-06-18T21:07:09.308786Z",
     "iopub.status.idle": "2022-06-18T21:07:09.666824Z",
     "shell.execute_reply": "2022-06-18T21:07:09.665820Z"
    },
    "papermill": {
     "duration": 0.379226,
     "end_time": "2022-06-18T21:07:09.668843",
     "exception": false,
     "start_time": "2022-06-18T21:07:09.289617",
     "status": "completed"
    },
    "tags": []
   },
   "outputs": [
    {
     "data": {
      "text/plain": [
       "<AxesSubplot:ylabel='Frequency'>"
      ]
     },
     "execution_count": 14,
     "metadata": {},
     "output_type": "execute_result"
    },
    {
     "data": {
      "image/png": "[encoded data removed]",
      "text/plain": [
       "<Figure size 432x288 with 1 Axes>"
      ]
     },
     "metadata": {
      "needs_background": "light"
     },
     "output_type": "display_data"
    }
   ],
   "source": [
    "(df.isna().sum()/df.shape[0]*100).plot.hist()"
   ]
  },
  {
   "cell_type": "code",
   "execution_count": 15,
   "id": "7c6836e6",
   "metadata": {
    "execution": {
     "iopub.execute_input": "2022-06-18T21:07:09.712820Z",
     "iopub.status.busy": "2022-06-18T21:07:09.712406Z",
     "iopub.status.idle": "2022-06-18T21:07:10.771738Z",
     "shell.execute_reply": "2022-06-18T21:07:10.770422Z"
    },
    "papermill": {
     "duration": 1.084308,
     "end_time": "2022-06-18T21:07:10.774060",
     "exception": false,
     "start_time": "2022-06-18T21:07:09.689752",
     "status": "completed"
    },
    "tags": []
   },
   "outputs": [
    {
     "data": {
      "text/plain": [
       "<AxesSubplot:title={'center':'% of values missing'}>"
      ]
     },
     "execution_count": 15,
     "metadata": {},
     "output_type": "execute_result"
    },
    {
     "data": {
      "image/png": "[encoded data removed]",
      "text/plain": [
       "<Figure size 576x864 with 1 Axes>"
      ]
     },
     "metadata": {
      "needs_background": "light"
     },
     "output_type": "display_data"
    }
   ],
   "source": [
    "nan_count = pd.DataFrame([df.isna().mean()]).T\n",
    "nan_count.plot(kind = 'barh', figsize = (8,12), title = '% of values missing')"
   ]
  },
  {
   "cell_type": "code",
   "execution_count": 16,
   "id": "826a21c6",
   "metadata": {
    "execution": {
     "iopub.execute_input": "2022-06-18T21:07:10.812677Z",
     "iopub.status.busy": "2022-06-18T21:07:10.812266Z",
     "iopub.status.idle": "2022-06-18T21:07:11.416757Z",
     "shell.execute_reply": "2022-06-18T21:07:11.415670Z"
    },
    "papermill": {
     "duration": 0.626062,
     "end_time": "2022-06-18T21:07:11.418817",
     "exception": false,
     "start_time": "2022-06-18T21:07:10.792755",
     "status": "completed"
    },
    "tags": []
   },
   "outputs": [
    {
     "data": {
      "text/html": [
       "<div>\n",
       "<style scoped>\n",
       "    .dataframe tbody tr th:only-of-type {\n",
       "        vertical-align: middle;\n",
       "    }\n",
       "\n",
       "    .dataframe tbody tr th {\n",
       "        vertical-align: top;\n",
       "    }\n",
       "\n",
       "    .dataframe thead th {\n",
       "        text-align: right;\n",
       "    }\n",
       "</style>\n",
       "<table border=\"1\" class=\"dataframe\">\n",
       "  <thead>\n",
       "    <tr style=\"text-align: right;\">\n",
       "      <th></th>\n",
       "      <th>F_1_0</th>\n",
       "      <th>F_1_1</th>\n",
       "      <th>F_1_2</th>\n",
       "      <th>F_1_3</th>\n",
       "      <th>F_1_4</th>\n",
       "      <th>F_1_5</th>\n",
       "      <th>F_1_6</th>\n",
       "      <th>F_1_7</th>\n",
       "      <th>F_1_8</th>\n",
       "      <th>F_1_9</th>\n",
       "      <th>...</th>\n",
       "      <th>F_4_6</th>\n",
       "      <th>F_4_7</th>\n",
       "      <th>F_4_8</th>\n",
       "      <th>F_4_9</th>\n",
       "      <th>F_4_10</th>\n",
       "      <th>F_4_11</th>\n",
       "      <th>F_4_12</th>\n",
       "      <th>F_4_13</th>\n",
       "      <th>F_4_14</th>\n",
       "      <th>nan_val_count</th>\n",
       "    </tr>\n",
       "  </thead>\n",
       "  <tbody>\n",
       "    <tr>\n",
       "      <th>0</th>\n",
       "      <td>-0.354591</td>\n",
       "      <td>-0.464038</td>\n",
       "      <td>2.304115</td>\n",
       "      <td>0.734486</td>\n",
       "      <td>1.696395</td>\n",
       "      <td>0.136285</td>\n",
       "      <td>-0.518344</td>\n",
       "      <td>0.502640</td>\n",
       "      <td>-1.852504</td>\n",
       "      <td>-0.500665</td>\n",
       "      <td>...</td>\n",
       "      <td>0.794438</td>\n",
       "      <td>0.265185</td>\n",
       "      <td>-0.561809</td>\n",
       "      <td>0.196480</td>\n",
       "      <td>0.373434</td>\n",
       "      <td>6.206995</td>\n",
       "      <td>3.809505</td>\n",
       "      <td>1.236486</td>\n",
       "      <td>1.182055</td>\n",
       "      <td>2</td>\n",
       "    </tr>\n",
       "    <tr>\n",
       "      <th>1</th>\n",
       "      <td>1.380940</td>\n",
       "      <td>-0.499626</td>\n",
       "      <td>-0.418548</td>\n",
       "      <td>1.911725</td>\n",
       "      <td>-0.826130</td>\n",
       "      <td>-1.715371</td>\n",
       "      <td>-0.577091</td>\n",
       "      <td>-1.041486</td>\n",
       "      <td>0.596067</td>\n",
       "      <td>-0.363425</td>\n",
       "      <td>...</td>\n",
       "      <td>-0.738275</td>\n",
       "      <td>2.361818</td>\n",
       "      <td>-0.060753</td>\n",
       "      <td>0.727249</td>\n",
       "      <td>-0.271882</td>\n",
       "      <td>5.232157</td>\n",
       "      <td>-4.218259</td>\n",
       "      <td>-2.724883</td>\n",
       "      <td>-0.063775</td>\n",
       "      <td>1</td>\n",
       "    </tr>\n",
       "    <tr>\n",
       "      <th>2</th>\n",
       "      <td>0.256023</td>\n",
       "      <td>-1.059874</td>\n",
       "      <td>NaN</td>\n",
       "      <td>0.345678</td>\n",
       "      <td>1.513814</td>\n",
       "      <td>1.243864</td>\n",
       "      <td>-0.509648</td>\n",
       "      <td>-0.800481</td>\n",
       "      <td>-0.115945</td>\n",
       "      <td>0.595777</td>\n",
       "      <td>...</td>\n",
       "      <td>0.472496</td>\n",
       "      <td>2.491386</td>\n",
       "      <td>0.353381</td>\n",
       "      <td>-0.260682</td>\n",
       "      <td>-0.000833</td>\n",
       "      <td>-0.116457</td>\n",
       "      <td>-2.131747</td>\n",
       "      <td>3.661499</td>\n",
       "      <td>-0.131576</td>\n",
       "      <td>2</td>\n",
       "    </tr>\n",
       "    <tr>\n",
       "      <th>3</th>\n",
       "      <td>-0.728420</td>\n",
       "      <td>-2.432399</td>\n",
       "      <td>-2.453602</td>\n",
       "      <td>-0.020509</td>\n",
       "      <td>0.333397</td>\n",
       "      <td>0.086049</td>\n",
       "      <td>-1.787601</td>\n",
       "      <td>0.667011</td>\n",
       "      <td>0.761564</td>\n",
       "      <td>-2.217847</td>\n",
       "      <td>...</td>\n",
       "      <td>-4.664806</td>\n",
       "      <td>-0.847211</td>\n",
       "      <td>-0.264249</td>\n",
       "      <td>0.664334</td>\n",
       "      <td>-0.557868</td>\n",
       "      <td>8.499483</td>\n",
       "      <td>-4.738799</td>\n",
       "      <td>-3.054611</td>\n",
       "      <td>0.494152</td>\n",
       "      <td>1</td>\n",
       "    </tr>\n",
       "    <tr>\n",
       "      <th>4</th>\n",
       "      <td>0.590212</td>\n",
       "      <td>-0.066127</td>\n",
       "      <td>0.468009</td>\n",
       "      <td>-1.096038</td>\n",
       "      <td>0.119399</td>\n",
       "      <td>-1.809710</td>\n",
       "      <td>0.466358</td>\n",
       "      <td>-0.053196</td>\n",
       "      <td>-0.580320</td>\n",
       "      <td>-1.143500</td>\n",
       "      <td>...</td>\n",
       "      <td>2.558883</td>\n",
       "      <td>3.377724</td>\n",
       "      <td>0.846891</td>\n",
       "      <td>0.696032</td>\n",
       "      <td>0.554121</td>\n",
       "      <td>-5.979714</td>\n",
       "      <td>-2.869631</td>\n",
       "      <td>3.733057</td>\n",
       "      <td>-0.722943</td>\n",
       "      <td>2</td>\n",
       "    </tr>\n",
       "  </tbody>\n",
       "</table>\n",
       "<p>5 rows × 81 columns</p>\n",
       "</div>"
      ],
      "text/plain": [
       "      F_1_0     F_1_1     F_1_2     F_1_3     F_1_4     F_1_5     F_1_6  \\\n",
       "0 -0.354591 -0.464038  2.304115  0.734486  1.696395  0.136285 -0.518344   \n",
       "1  1.380940 -0.499626 -0.418548  1.911725 -0.826130 -1.715371 -0.577091   \n",
       "2  0.256023 -1.059874       NaN  0.345678  1.513814  1.243864 -0.509648   \n",
       "3 -0.728420 -2.432399 -2.453602 -0.020509  0.333397  0.086049 -1.787601   \n",
       "4  0.590212 -0.066127  0.468009 -1.096038  0.119399 -1.809710  0.466358   \n",
       "\n",
       "      F_1_7     F_1_8     F_1_9  ...     F_4_6     F_4_7     F_4_8     F_4_9  \\\n",
       "0  0.502640 -1.852504 -0.500665  ...  0.794438  0.265185 -0.561809  0.196480   \n",
       "1 -1.041486  0.596067 -0.363425  ... -0.738275  2.361818 -0.060753  0.727249   \n",
       "2 -0.800481 -0.115945  0.595777  ...  0.472496  2.491386  0.353381 -0.260682   \n",
       "3  0.667011  0.761564 -2.217847  ... -4.664806 -0.847211 -0.264249  0.664334   \n",
       "4 -0.053196 -0.580320 -1.143500  ...  2.558883  3.377724  0.846891  0.696032   \n",
       "\n",
       "     F_4_10    F_4_11    F_4_12    F_4_13    F_4_14  nan_val_count  \n",
       "0  0.373434  6.206995  3.809505  1.236486  1.182055              2  \n",
       "1 -0.271882  5.232157 -4.218259 -2.724883 -0.063775              1  \n",
       "2 -0.000833 -0.116457 -2.131747  3.661499 -0.131576              2  \n",
       "3 -0.557868  8.499483 -4.738799 -3.054611  0.494152              1  \n",
       "4  0.554121 -5.979714 -2.869631  3.733057 -0.722943              2  \n",
       "\n",
       "[5 rows x 81 columns]"
      ]
     },
     "execution_count": 16,
     "metadata": {},
     "output_type": "execute_result"
    }
   ],
   "source": [
    "df['nan_val_count'] = df[[c for c in df.columns]].isna().sum(axis = 1)\n",
    "df.head()"
   ]
  },
  {
   "cell_type": "code",
   "execution_count": 17,
   "id": "b2a7f4b1",
   "metadata": {
    "execution": {
     "iopub.execute_input": "2022-06-18T21:07:11.459214Z",
     "iopub.status.busy": "2022-06-18T21:07:11.458467Z",
     "iopub.status.idle": "2022-06-18T21:07:11.470965Z",
     "shell.execute_reply": "2022-06-18T21:07:11.470350Z"
    },
    "papermill": {
     "duration": 0.03465,
     "end_time": "2022-06-18T21:07:11.472610",
     "exception": false,
     "start_time": "2022-06-18T21:07:11.437960",
     "status": "completed"
    },
    "tags": []
   },
   "outputs": [
    {
     "data": {
      "text/plain": [
       "1    370798\n",
       "0    364774\n",
       "2    185543\n",
       "3     61191\n",
       "4     14488\n",
       "5      2723\n",
       "6       413\n",
       "7        64\n",
       "8         4\n",
       "9         2\n",
       "Name: nan_val_count, dtype: int64"
      ]
     },
     "execution_count": 17,
     "metadata": {},
     "output_type": "execute_result"
    }
   ],
   "source": [
    "df['nan_val_count'].value_counts()"
   ]
  },
  {
   "cell_type": "code",
   "execution_count": 18,
   "id": "4c3b9d16",
   "metadata": {
    "execution": {
     "iopub.execute_input": "2022-06-18T21:07:11.511629Z",
     "iopub.status.busy": "2022-06-18T21:07:11.511008Z",
     "iopub.status.idle": "2022-06-18T21:07:11.657556Z",
     "shell.execute_reply": "2022-06-18T21:07:11.656650Z"
    },
    "papermill": {
     "duration": 0.168561,
     "end_time": "2022-06-18T21:07:11.659709",
     "exception": false,
     "start_time": "2022-06-18T21:07:11.491148",
     "status": "completed"
    },
    "tags": []
   },
   "outputs": [
    {
     "data": {
      "text/plain": [
       "<AxesSubplot:>"
      ]
     },
     "execution_count": 18,
     "metadata": {},
     "output_type": "execute_result"
    },
    {
     "data": {
      "image/png": "[encoded data removed]",
      "text/plain": [
       "<Figure size 432x288 with 1 Axes>"
      ]
     },
     "metadata": {
      "needs_background": "light"
     },
     "output_type": "display_data"
    }
   ],
   "source": [
    "df['nan_val_count'].value_counts().plot(kind = 'barh')"
   ]
  },
  {
   "cell_type": "code",
   "execution_count": 19,
   "id": "a1f5853c",
   "metadata": {
    "execution": {
     "iopub.execute_input": "2022-06-18T21:07:11.700443Z",
     "iopub.status.busy": "2022-06-18T21:07:11.699549Z",
     "iopub.status.idle": "2022-06-18T21:07:11.862053Z",
     "shell.execute_reply": "2022-06-18T21:07:11.861115Z"
    },
    "papermill": {
     "duration": 0.184984,
     "end_time": "2022-06-18T21:07:11.863921",
     "exception": false,
     "start_time": "2022-06-18T21:07:11.678937",
     "status": "completed"
    },
    "tags": []
   },
   "outputs": [
    {
     "data": {
      "text/plain": [
       "['F_1_0',\n",
       " 'F_1_1',\n",
       " 'F_1_2',\n",
       " 'F_1_3',\n",
       " 'F_1_4',\n",
       " 'F_1_5',\n",
       " 'F_1_6',\n",
       " 'F_1_7',\n",
       " 'F_1_8',\n",
       " 'F_1_9',\n",
       " 'F_1_10',\n",
       " 'F_1_11',\n",
       " 'F_1_12',\n",
       " 'F_1_13',\n",
       " 'F_1_14',\n",
       " 'F_3_0',\n",
       " 'F_3_1',\n",
       " 'F_3_2',\n",
       " 'F_3_3',\n",
       " 'F_3_4',\n",
       " 'F_3_5',\n",
       " 'F_3_6',\n",
       " 'F_3_7',\n",
       " 'F_3_8',\n",
       " 'F_3_9',\n",
       " 'F_3_10',\n",
       " 'F_3_11',\n",
       " 'F_3_12',\n",
       " 'F_3_13',\n",
       " 'F_3_14',\n",
       " 'F_3_15',\n",
       " 'F_3_16',\n",
       " 'F_3_17',\n",
       " 'F_3_18',\n",
       " 'F_3_19',\n",
       " 'F_3_20',\n",
       " 'F_3_21',\n",
       " 'F_3_22',\n",
       " 'F_3_23',\n",
       " 'F_3_24',\n",
       " 'F_4_0',\n",
       " 'F_4_1',\n",
       " 'F_4_2',\n",
       " 'F_4_3',\n",
       " 'F_4_4',\n",
       " 'F_4_5',\n",
       " 'F_4_6',\n",
       " 'F_4_7',\n",
       " 'F_4_8',\n",
       " 'F_4_9',\n",
       " 'F_4_10',\n",
       " 'F_4_11',\n",
       " 'F_4_12',\n",
       " 'F_4_13',\n",
       " 'F_4_14']"
      ]
     },
     "execution_count": 19,
     "metadata": {},
     "output_type": "execute_result"
    }
   ],
   "source": [
    "features_with_null = list(column for column in df.columns\n",
    "    if df[column].isna().sum()>0)\n",
    "features_with_null"
   ]
  },
  {
   "cell_type": "code",
   "execution_count": 20,
   "id": "0320b9d1",
   "metadata": {
    "execution": {
     "iopub.execute_input": "2022-06-18T21:07:11.903274Z",
     "iopub.status.busy": "2022-06-18T21:07:11.902771Z",
     "iopub.status.idle": "2022-06-18T21:07:11.909444Z",
     "shell.execute_reply": "2022-06-18T21:07:11.908798Z"
    },
    "papermill": {
     "duration": 0.028752,
     "end_time": "2022-06-18T21:07:11.911464",
     "exception": false,
     "start_time": "2022-06-18T21:07:11.882712",
     "status": "completed"
    },
    "tags": []
   },
   "outputs": [],
   "source": [
    "numeric_col = df.columns[df.dtypes == 'float64']\n",
    "category_col = df.columns[df.dtypes == 'int64']"
   ]
  },
  {
   "cell_type": "code",
   "execution_count": 21,
   "id": "3b034b39",
   "metadata": {
    "execution": {
     "iopub.execute_input": "2022-06-18T21:07:11.952674Z",
     "iopub.status.busy": "2022-06-18T21:07:11.952036Z",
     "iopub.status.idle": "2022-06-18T21:07:12.584259Z",
     "shell.execute_reply": "2022-06-18T21:07:12.583326Z"
    },
    "papermill": {
     "duration": 0.655139,
     "end_time": "2022-06-18T21:07:12.586153",
     "exception": false,
     "start_time": "2022-06-18T21:07:11.931014",
     "status": "completed"
    },
    "tags": []
   },
   "outputs": [
    {
     "data": {
      "text/html": [
       "<div>\n",
       "<style scoped>\n",
       "    .dataframe tbody tr th:only-of-type {\n",
       "        vertical-align: middle;\n",
       "    }\n",
       "\n",
       "    .dataframe tbody tr th {\n",
       "        vertical-align: top;\n",
       "    }\n",
       "\n",
       "    .dataframe thead th {\n",
       "        text-align: right;\n",
       "    }\n",
       "</style>\n",
       "<table border=\"1\" class=\"dataframe\">\n",
       "  <thead>\n",
       "    <tr style=\"text-align: right;\">\n",
       "      <th></th>\n",
       "      <th>index</th>\n",
       "      <th>F_1_0</th>\n",
       "      <th>F_1_1</th>\n",
       "      <th>F_1_2</th>\n",
       "      <th>F_1_3</th>\n",
       "      <th>F_1_4</th>\n",
       "      <th>F_1_5</th>\n",
       "      <th>F_1_6</th>\n",
       "      <th>F_1_7</th>\n",
       "      <th>F_1_8</th>\n",
       "      <th>...</th>\n",
       "      <th>F_4_6</th>\n",
       "      <th>F_4_7</th>\n",
       "      <th>F_4_8</th>\n",
       "      <th>F_4_9</th>\n",
       "      <th>F_4_10</th>\n",
       "      <th>F_4_11</th>\n",
       "      <th>F_4_12</th>\n",
       "      <th>F_4_13</th>\n",
       "      <th>F_4_14</th>\n",
       "      <th>nan_val_count</th>\n",
       "    </tr>\n",
       "  </thead>\n",
       "  <tbody>\n",
       "    <tr>\n",
       "      <th>0</th>\n",
       "      <td>6</td>\n",
       "      <td>0.533210</td>\n",
       "      <td>1.662285</td>\n",
       "      <td>0.601138</td>\n",
       "      <td>-0.662212</td>\n",
       "      <td>0.033856</td>\n",
       "      <td>-0.056208</td>\n",
       "      <td>-1.781594</td>\n",
       "      <td>0.326768</td>\n",
       "      <td>1.583396</td>\n",
       "      <td>...</td>\n",
       "      <td>4.226621</td>\n",
       "      <td>-1.136903</td>\n",
       "      <td>0.171289</td>\n",
       "      <td>0.703419</td>\n",
       "      <td>-0.779643</td>\n",
       "      <td>4.721938</td>\n",
       "      <td>1.835678</td>\n",
       "      <td>-6.408681</td>\n",
       "      <td>0.538917</td>\n",
       "      <td>0</td>\n",
       "    </tr>\n",
       "    <tr>\n",
       "      <th>1</th>\n",
       "      <td>8</td>\n",
       "      <td>-0.334935</td>\n",
       "      <td>-0.801940</td>\n",
       "      <td>-0.754364</td>\n",
       "      <td>-0.369206</td>\n",
       "      <td>0.781484</td>\n",
       "      <td>1.024585</td>\n",
       "      <td>-0.394121</td>\n",
       "      <td>-0.588350</td>\n",
       "      <td>0.092130</td>\n",
       "      <td>...</td>\n",
       "      <td>2.535868</td>\n",
       "      <td>-0.617469</td>\n",
       "      <td>0.107925</td>\n",
       "      <td>-1.063796</td>\n",
       "      <td>-0.128948</td>\n",
       "      <td>3.340392</td>\n",
       "      <td>-0.966351</td>\n",
       "      <td>0.899595</td>\n",
       "      <td>-0.037505</td>\n",
       "      <td>0</td>\n",
       "    </tr>\n",
       "    <tr>\n",
       "      <th>2</th>\n",
       "      <td>9</td>\n",
       "      <td>0.144170</td>\n",
       "      <td>-0.580150</td>\n",
       "      <td>-0.896780</td>\n",
       "      <td>-0.550178</td>\n",
       "      <td>1.231237</td>\n",
       "      <td>-0.474318</td>\n",
       "      <td>-1.230894</td>\n",
       "      <td>0.474766</td>\n",
       "      <td>0.367473</td>\n",
       "      <td>...</td>\n",
       "      <td>1.543487</td>\n",
       "      <td>0.823975</td>\n",
       "      <td>0.036584</td>\n",
       "      <td>-1.029416</td>\n",
       "      <td>0.637053</td>\n",
       "      <td>0.681586</td>\n",
       "      <td>1.674981</td>\n",
       "      <td>-1.291278</td>\n",
       "      <td>0.553247</td>\n",
       "      <td>0</td>\n",
       "    </tr>\n",
       "    <tr>\n",
       "      <th>3</th>\n",
       "      <td>15</td>\n",
       "      <td>0.386307</td>\n",
       "      <td>-0.164298</td>\n",
       "      <td>-1.208667</td>\n",
       "      <td>0.768579</td>\n",
       "      <td>-2.200503</td>\n",
       "      <td>-1.498463</td>\n",
       "      <td>0.120240</td>\n",
       "      <td>0.865945</td>\n",
       "      <td>1.371115</td>\n",
       "      <td>...</td>\n",
       "      <td>-0.854097</td>\n",
       "      <td>-1.151623</td>\n",
       "      <td>0.480169</td>\n",
       "      <td>-0.112417</td>\n",
       "      <td>0.154438</td>\n",
       "      <td>3.835651</td>\n",
       "      <td>-4.028104</td>\n",
       "      <td>-2.736279</td>\n",
       "      <td>0.190985</td>\n",
       "      <td>0</td>\n",
       "    </tr>\n",
       "    <tr>\n",
       "      <th>4</th>\n",
       "      <td>16</td>\n",
       "      <td>0.641497</td>\n",
       "      <td>0.714770</td>\n",
       "      <td>0.958424</td>\n",
       "      <td>0.765871</td>\n",
       "      <td>-1.713403</td>\n",
       "      <td>-1.081687</td>\n",
       "      <td>0.943967</td>\n",
       "      <td>0.329246</td>\n",
       "      <td>2.207749</td>\n",
       "      <td>...</td>\n",
       "      <td>0.674887</td>\n",
       "      <td>1.679765</td>\n",
       "      <td>0.130678</td>\n",
       "      <td>0.421721</td>\n",
       "      <td>0.585881</td>\n",
       "      <td>-0.348452</td>\n",
       "      <td>-0.782981</td>\n",
       "      <td>3.389371</td>\n",
       "      <td>-0.487223</td>\n",
       "      <td>0</td>\n",
       "    </tr>\n",
       "  </tbody>\n",
       "</table>\n",
       "<p>5 rows × 82 columns</p>\n",
       "</div>"
      ],
      "text/plain": [
       "   index     F_1_0     F_1_1     F_1_2     F_1_3     F_1_4     F_1_5  \\\n",
       "0      6  0.533210  1.662285  0.601138 -0.662212  0.033856 -0.056208   \n",
       "1      8 -0.334935 -0.801940 -0.754364 -0.369206  0.781484  1.024585   \n",
       "2      9  0.144170 -0.580150 -0.896780 -0.550178  1.231237 -0.474318   \n",
       "3     15  0.386307 -0.164298 -1.208667  0.768579 -2.200503 -1.498463   \n",
       "4     16  0.641497  0.714770  0.958424  0.765871 -1.713403 -1.081687   \n",
       "\n",
       "      F_1_6     F_1_7     F_1_8  ...     F_4_6     F_4_7     F_4_8     F_4_9  \\\n",
       "0 -1.781594  0.326768  1.583396  ...  4.226621 -1.136903  0.171289  0.703419   \n",
       "1 -0.394121 -0.588350  0.092130  ...  2.535868 -0.617469  0.107925 -1.063796   \n",
       "2 -1.230894  0.474766  0.367473  ...  1.543487  0.823975  0.036584 -1.029416   \n",
       "3  0.120240  0.865945  1.371115  ... -0.854097 -1.151623  0.480169 -0.112417   \n",
       "4  0.943967  0.329246  2.207749  ...  0.674887  1.679765  0.130678  0.421721   \n",
       "\n",
       "     F_4_10    F_4_11    F_4_12    F_4_13    F_4_14  nan_val_count  \n",
       "0 -0.779643  4.721938  1.835678 -6.408681  0.538917              0  \n",
       "1 -0.128948  3.340392 -0.966351  0.899595 -0.037505              0  \n",
       "2  0.637053  0.681586  1.674981 -1.291278  0.553247              0  \n",
       "3  0.154438  3.835651 -4.028104 -2.736279  0.190985              0  \n",
       "4  0.585881 -0.348452 -0.782981  3.389371 -0.487223              0  \n",
       "\n",
       "[5 rows x 82 columns]"
      ]
     },
     "execution_count": 21,
     "metadata": {},
     "output_type": "execute_result"
    }
   ],
   "source": [
    "clean_data = df.dropna().reset_index()\n",
    "clean_data.head()"
   ]
  },
  {
   "cell_type": "code",
   "execution_count": 22,
   "id": "1d6e61ce",
   "metadata": {
    "execution": {
     "iopub.execute_input": "2022-06-18T21:07:12.626838Z",
     "iopub.status.busy": "2022-06-18T21:07:12.626442Z",
     "iopub.status.idle": "2022-06-18T21:07:12.768647Z",
     "shell.execute_reply": "2022-06-18T21:07:12.767657Z"
    },
    "papermill": {
     "duration": 0.165464,
     "end_time": "2022-06-18T21:07:12.771021",
     "exception": false,
     "start_time": "2022-06-18T21:07:12.605557",
     "status": "completed"
    },
    "tags": []
   },
   "outputs": [],
   "source": [
    "clean_data.drop(['index','nan_val_count'],axis=1, inplace = True)"
   ]
  },
  {
   "cell_type": "code",
   "execution_count": 23,
   "id": "9a759eba",
   "metadata": {
    "execution": {
     "iopub.execute_input": "2022-06-18T21:07:12.811012Z",
     "iopub.status.busy": "2022-06-18T21:07:12.810630Z",
     "iopub.status.idle": "2022-06-18T21:07:12.833875Z",
     "shell.execute_reply": "2022-06-18T21:07:12.832984Z"
    },
    "papermill": {
     "duration": 0.04571,
     "end_time": "2022-06-18T21:07:12.835842",
     "exception": false,
     "start_time": "2022-06-18T21:07:12.790132",
     "status": "completed"
    },
    "tags": []
   },
   "outputs": [
    {
     "data": {
      "text/html": [
       "<div>\n",
       "<style scoped>\n",
       "    .dataframe tbody tr th:only-of-type {\n",
       "        vertical-align: middle;\n",
       "    }\n",
       "\n",
       "    .dataframe tbody tr th {\n",
       "        vertical-align: top;\n",
       "    }\n",
       "\n",
       "    .dataframe thead th {\n",
       "        text-align: right;\n",
       "    }\n",
       "</style>\n",
       "<table border=\"1\" class=\"dataframe\">\n",
       "  <thead>\n",
       "    <tr style=\"text-align: right;\">\n",
       "      <th></th>\n",
       "      <th>F_1_0</th>\n",
       "      <th>F_1_1</th>\n",
       "      <th>F_1_2</th>\n",
       "      <th>F_1_3</th>\n",
       "      <th>F_1_4</th>\n",
       "      <th>F_1_5</th>\n",
       "      <th>F_1_6</th>\n",
       "      <th>F_1_7</th>\n",
       "      <th>F_1_8</th>\n",
       "      <th>F_1_9</th>\n",
       "      <th>...</th>\n",
       "      <th>F_4_5</th>\n",
       "      <th>F_4_6</th>\n",
       "      <th>F_4_7</th>\n",
       "      <th>F_4_8</th>\n",
       "      <th>F_4_9</th>\n",
       "      <th>F_4_10</th>\n",
       "      <th>F_4_11</th>\n",
       "      <th>F_4_12</th>\n",
       "      <th>F_4_13</th>\n",
       "      <th>F_4_14</th>\n",
       "    </tr>\n",
       "  </thead>\n",
       "  <tbody>\n",
       "    <tr>\n",
       "      <th>0</th>\n",
       "      <td>0.533210</td>\n",
       "      <td>1.662285</td>\n",
       "      <td>0.601138</td>\n",
       "      <td>-0.662212</td>\n",
       "      <td>0.033856</td>\n",
       "      <td>-0.056208</td>\n",
       "      <td>-1.781594</td>\n",
       "      <td>0.326768</td>\n",
       "      <td>1.583396</td>\n",
       "      <td>-0.345895</td>\n",
       "      <td>...</td>\n",
       "      <td>-2.149355</td>\n",
       "      <td>4.226621</td>\n",
       "      <td>-1.136903</td>\n",
       "      <td>0.171289</td>\n",
       "      <td>0.703419</td>\n",
       "      <td>-0.779643</td>\n",
       "      <td>4.721938</td>\n",
       "      <td>1.835678</td>\n",
       "      <td>-6.408681</td>\n",
       "      <td>0.538917</td>\n",
       "    </tr>\n",
       "    <tr>\n",
       "      <th>1</th>\n",
       "      <td>-0.334935</td>\n",
       "      <td>-0.801940</td>\n",
       "      <td>-0.754364</td>\n",
       "      <td>-0.369206</td>\n",
       "      <td>0.781484</td>\n",
       "      <td>1.024585</td>\n",
       "      <td>-0.394121</td>\n",
       "      <td>-0.588350</td>\n",
       "      <td>0.092130</td>\n",
       "      <td>0.106974</td>\n",
       "      <td>...</td>\n",
       "      <td>1.075616</td>\n",
       "      <td>2.535868</td>\n",
       "      <td>-0.617469</td>\n",
       "      <td>0.107925</td>\n",
       "      <td>-1.063796</td>\n",
       "      <td>-0.128948</td>\n",
       "      <td>3.340392</td>\n",
       "      <td>-0.966351</td>\n",
       "      <td>0.899595</td>\n",
       "      <td>-0.037505</td>\n",
       "    </tr>\n",
       "    <tr>\n",
       "      <th>2</th>\n",
       "      <td>0.144170</td>\n",
       "      <td>-0.580150</td>\n",
       "      <td>-0.896780</td>\n",
       "      <td>-0.550178</td>\n",
       "      <td>1.231237</td>\n",
       "      <td>-0.474318</td>\n",
       "      <td>-1.230894</td>\n",
       "      <td>0.474766</td>\n",
       "      <td>0.367473</td>\n",
       "      <td>-0.256849</td>\n",
       "      <td>...</td>\n",
       "      <td>-1.630001</td>\n",
       "      <td>1.543487</td>\n",
       "      <td>0.823975</td>\n",
       "      <td>0.036584</td>\n",
       "      <td>-1.029416</td>\n",
       "      <td>0.637053</td>\n",
       "      <td>0.681586</td>\n",
       "      <td>1.674981</td>\n",
       "      <td>-1.291278</td>\n",
       "      <td>0.553247</td>\n",
       "    </tr>\n",
       "    <tr>\n",
       "      <th>3</th>\n",
       "      <td>0.386307</td>\n",
       "      <td>-0.164298</td>\n",
       "      <td>-1.208667</td>\n",
       "      <td>0.768579</td>\n",
       "      <td>-2.200503</td>\n",
       "      <td>-1.498463</td>\n",
       "      <td>0.120240</td>\n",
       "      <td>0.865945</td>\n",
       "      <td>1.371115</td>\n",
       "      <td>1.627371</td>\n",
       "      <td>...</td>\n",
       "      <td>-0.100488</td>\n",
       "      <td>-0.854097</td>\n",
       "      <td>-1.151623</td>\n",
       "      <td>0.480169</td>\n",
       "      <td>-0.112417</td>\n",
       "      <td>0.154438</td>\n",
       "      <td>3.835651</td>\n",
       "      <td>-4.028104</td>\n",
       "      <td>-2.736279</td>\n",
       "      <td>0.190985</td>\n",
       "    </tr>\n",
       "    <tr>\n",
       "      <th>4</th>\n",
       "      <td>0.641497</td>\n",
       "      <td>0.714770</td>\n",
       "      <td>0.958424</td>\n",
       "      <td>0.765871</td>\n",
       "      <td>-1.713403</td>\n",
       "      <td>-1.081687</td>\n",
       "      <td>0.943967</td>\n",
       "      <td>0.329246</td>\n",
       "      <td>2.207749</td>\n",
       "      <td>-1.027082</td>\n",
       "      <td>...</td>\n",
       "      <td>2.923529</td>\n",
       "      <td>0.674887</td>\n",
       "      <td>1.679765</td>\n",
       "      <td>0.130678</td>\n",
       "      <td>0.421721</td>\n",
       "      <td>0.585881</td>\n",
       "      <td>-0.348452</td>\n",
       "      <td>-0.782981</td>\n",
       "      <td>3.389371</td>\n",
       "      <td>-0.487223</td>\n",
       "    </tr>\n",
       "  </tbody>\n",
       "</table>\n",
       "<p>5 rows × 80 columns</p>\n",
       "</div>"
      ],
      "text/plain": [
       "      F_1_0     F_1_1     F_1_2     F_1_3     F_1_4     F_1_5     F_1_6  \\\n",
       "0  0.533210  1.662285  0.601138 -0.662212  0.033856 -0.056208 -1.781594   \n",
       "1 -0.334935 -0.801940 -0.754364 -0.369206  0.781484  1.024585 -0.394121   \n",
       "2  0.144170 -0.580150 -0.896780 -0.550178  1.231237 -0.474318 -1.230894   \n",
       "3  0.386307 -0.164298 -1.208667  0.768579 -2.200503 -1.498463  0.120240   \n",
       "4  0.641497  0.714770  0.958424  0.765871 -1.713403 -1.081687  0.943967   \n",
       "\n",
       "      F_1_7     F_1_8     F_1_9  ...     F_4_5     F_4_6     F_4_7     F_4_8  \\\n",
       "0  0.326768  1.583396 -0.345895  ... -2.149355  4.226621 -1.136903  0.171289   \n",
       "1 -0.588350  0.092130  0.106974  ...  1.075616  2.535868 -0.617469  0.107925   \n",
       "2  0.474766  0.367473 -0.256849  ... -1.630001  1.543487  0.823975  0.036584   \n",
       "3  0.865945  1.371115  1.627371  ... -0.100488 -0.854097 -1.151623  0.480169   \n",
       "4  0.329246  2.207749 -1.027082  ...  2.923529  0.674887  1.679765  0.130678   \n",
       "\n",
       "      F_4_9    F_4_10    F_4_11    F_4_12    F_4_13    F_4_14  \n",
       "0  0.703419 -0.779643  4.721938  1.835678 -6.408681  0.538917  \n",
       "1 -1.063796 -0.128948  3.340392 -0.966351  0.899595 -0.037505  \n",
       "2 -1.029416  0.637053  0.681586  1.674981 -1.291278  0.553247  \n",
       "3 -0.112417  0.154438  3.835651 -4.028104 -2.736279  0.190985  \n",
       "4  0.421721  0.585881 -0.348452 -0.782981  3.389371 -0.487223  \n",
       "\n",
       "[5 rows x 80 columns]"
      ]
     },
     "execution_count": 23,
     "metadata": {},
     "output_type": "execute_result"
    }
   ],
   "source": [
    "clean_data.head()"
   ]
  },
  {
   "cell_type": "code",
   "execution_count": 24,
   "id": "f578d257",
   "metadata": {
    "execution": {
     "iopub.execute_input": "2022-06-18T21:07:12.877440Z",
     "iopub.status.busy": "2022-06-18T21:07:12.876550Z",
     "iopub.status.idle": "2022-06-18T21:07:12.983819Z",
     "shell.execute_reply": "2022-06-18T21:07:12.982912Z"
    },
    "papermill": {
     "duration": 0.130776,
     "end_time": "2022-06-18T21:07:12.986120",
     "exception": false,
     "start_time": "2022-06-18T21:07:12.855344",
     "status": "completed"
    },
    "tags": []
   },
   "outputs": [],
   "source": [
    "result = clean_data.copy()"
   ]
  },
  {
   "cell_type": "code",
   "execution_count": 25,
   "id": "01967729",
   "metadata": {
    "execution": {
     "iopub.execute_input": "2022-06-18T21:07:13.027177Z",
     "iopub.status.busy": "2022-06-18T21:07:13.026472Z",
     "iopub.status.idle": "2022-06-18T21:07:13.667939Z",
     "shell.execute_reply": "2022-06-18T21:07:13.666859Z"
    },
    "papermill": {
     "duration": 0.664346,
     "end_time": "2022-06-18T21:07:13.670084",
     "exception": false,
     "start_time": "2022-06-18T21:07:13.005738",
     "status": "completed"
    },
    "tags": []
   },
   "outputs": [],
   "source": [
    "for col in features_with_null:\n",
    "    selected_ind = clean_data[col].sample(frac = 0.018).index\n",
    "    clean_data.loc[selected_ind,col] = np.nan"
   ]
  },
  {
   "cell_type": "code",
   "execution_count": 26,
   "id": "132207a8",
   "metadata": {
    "execution": {
     "iopub.execute_input": "2022-06-18T21:07:13.712202Z",
     "iopub.status.busy": "2022-06-18T21:07:13.711530Z",
     "iopub.status.idle": "2022-06-18T21:07:13.769949Z",
     "shell.execute_reply": "2022-06-18T21:07:13.768857Z"
    },
    "papermill": {
     "duration": 0.082192,
     "end_time": "2022-06-18T21:07:13.771976",
     "exception": false,
     "start_time": "2022-06-18T21:07:13.689784",
     "status": "completed"
    },
    "tags": []
   },
   "outputs": [
    {
     "data": {
      "text/plain": [
       "F_1_0     6566\n",
       "F_1_1     6566\n",
       "F_1_2     6566\n",
       "F_1_3     6566\n",
       "F_1_4     6566\n",
       "          ... \n",
       "F_4_10    6566\n",
       "F_4_11    6566\n",
       "F_4_12    6566\n",
       "F_4_13    6566\n",
       "F_4_14    6566\n",
       "Length: 80, dtype: int64"
      ]
     },
     "execution_count": 26,
     "metadata": {},
     "output_type": "execute_result"
    }
   ],
   "source": [
    "clean_data.isna().sum()"
   ]
  },
  {
   "cell_type": "code",
   "execution_count": 27,
   "id": "b10dfc80",
   "metadata": {
    "execution": {
     "iopub.execute_input": "2022-06-18T21:07:13.813716Z",
     "iopub.status.busy": "2022-06-18T21:07:13.813073Z",
     "iopub.status.idle": "2022-06-18T21:07:13.907417Z",
     "shell.execute_reply": "2022-06-18T21:07:13.906769Z"
    },
    "papermill": {
     "duration": 0.117298,
     "end_time": "2022-06-18T21:07:13.909285",
     "exception": false,
     "start_time": "2022-06-18T21:07:13.791987",
     "status": "completed"
    },
    "tags": []
   },
   "outputs": [
    {
     "data": {
      "text/plain": [
       "array([[ 5.332100e-01, -3.349350e-01,  1.441700e-01, ..., -7.691060e-01,\n",
       "        -1.709886e+00, -8.063800e-01],\n",
       "       [ 1.662285e+00, -8.019400e-01, -5.801500e-01, ..., -3.873630e-01,\n",
       "        -8.137850e-01, -2.525100e-02],\n",
       "       [ 6.011380e-01, -7.543640e-01, -8.967800e-01, ..., -1.227469e+00,\n",
       "        -1.866536e+00, -8.754770e-01],\n",
       "       ...,\n",
       "       [ 1.835678e+00, -9.663510e-01,  1.674981e+00, ...,  1.903850e-01,\n",
       "        -1.085554e+00,  2.334131e+00],\n",
       "       [-6.408681e+00,  8.995950e-01, -1.291278e+00, ..., -3.441120e-01,\n",
       "         3.122423e+00,  5.425421e+00],\n",
       "       [ 5.389170e-01, -3.750500e-02,  5.532470e-01, ..., -3.468070e-01,\n",
       "         4.831000e-03, -8.288470e-01]])"
      ]
     },
     "execution_count": 27,
     "metadata": {},
     "output_type": "execute_result"
    }
   ],
   "source": [
    "data = clean_data.T.to_numpy()\n",
    "#data = data.reshape(364774,80)\n",
    "data"
   ]
  },
  {
   "cell_type": "code",
   "execution_count": 28,
   "id": "0d813836",
   "metadata": {
    "execution": {
     "iopub.execute_input": "2022-06-18T21:07:13.952557Z",
     "iopub.status.busy": "2022-06-18T21:07:13.951646Z",
     "iopub.status.idle": "2022-06-18T21:07:13.957907Z",
     "shell.execute_reply": "2022-06-18T21:07:13.956941Z"
    },
    "papermill": {
     "duration": 0.030027,
     "end_time": "2022-06-18T21:07:13.959878",
     "exception": false,
     "start_time": "2022-06-18T21:07:13.929851",
     "status": "completed"
    },
    "tags": []
   },
   "outputs": [
    {
     "data": {
      "text/plain": [
       "(80, 364774)"
      ]
     },
     "execution_count": 28,
     "metadata": {},
     "output_type": "execute_result"
    }
   ],
   "source": [
    "data.shape"
   ]
  },
  {
   "cell_type": "code",
   "execution_count": 29,
   "id": "e973ec8e",
   "metadata": {
    "execution": {
     "iopub.execute_input": "2022-06-18T21:07:14.001337Z",
     "iopub.status.busy": "2022-06-18T21:07:14.000675Z",
     "iopub.status.idle": "2022-06-18T21:07:14.104253Z",
     "shell.execute_reply": "2022-06-18T21:07:14.103206Z"
    },
    "papermill": {
     "duration": 0.126406,
     "end_time": "2022-06-18T21:07:14.106315",
     "exception": false,
     "start_time": "2022-06-18T21:07:13.979909",
     "status": "completed"
    },
    "tags": []
   },
   "outputs": [
    {
     "data": {
      "text/plain": [
       "array([[ 5.332100e-01, -3.349350e-01,  1.441700e-01, ..., -7.691060e-01,\n",
       "        -1.709886e+00, -8.063800e-01],\n",
       "       [ 1.662285e+00, -8.019400e-01, -5.801500e-01, ..., -3.873630e-01,\n",
       "        -8.137850e-01, -2.525100e-02],\n",
       "       [ 6.011380e-01, -7.543640e-01, -8.967800e-01, ..., -1.227469e+00,\n",
       "        -1.866536e+00, -8.754770e-01],\n",
       "       ...,\n",
       "       [ 1.835678e+00, -9.663510e-01,  1.674981e+00, ...,  1.903850e-01,\n",
       "        -1.085554e+00,  2.334131e+00],\n",
       "       [-6.408681e+00,  8.995950e-01, -1.291278e+00, ..., -3.441120e-01,\n",
       "         3.122423e+00,  5.425421e+00],\n",
       "       [ 5.389170e-01, -3.750500e-02,  5.532470e-01, ..., -3.468070e-01,\n",
       "         4.831000e-03, -8.288470e-01]])"
      ]
     },
     "execution_count": 29,
     "metadata": {},
     "output_type": "execute_result"
    }
   ],
   "source": [
    "res_data = result.T.to_numpy()\n",
    "res_data"
   ]
  },
  {
   "cell_type": "code",
   "execution_count": 30,
   "id": "e8f7d933",
   "metadata": {
    "execution": {
     "iopub.execute_input": "2022-06-18T21:07:14.148228Z",
     "iopub.status.busy": "2022-06-18T21:07:14.147493Z",
     "iopub.status.idle": "2022-06-18T21:07:14.153861Z",
     "shell.execute_reply": "2022-06-18T21:07:14.152936Z"
    },
    "papermill": {
     "duration": 0.029841,
     "end_time": "2022-06-18T21:07:14.155768",
     "exception": false,
     "start_time": "2022-06-18T21:07:14.125927",
     "status": "completed"
    },
    "tags": []
   },
   "outputs": [
    {
     "data": {
      "text/plain": [
       "(80, 364774)"
      ]
     },
     "execution_count": 30,
     "metadata": {},
     "output_type": "execute_result"
    }
   ],
   "source": [
    "res_data.shape"
   ]
  },
  {
   "cell_type": "code",
   "execution_count": 31,
   "id": "3776d30b",
   "metadata": {
    "execution": {
     "iopub.execute_input": "2022-06-18T21:07:14.197224Z",
     "iopub.status.busy": "2022-06-18T21:07:14.196501Z",
     "iopub.status.idle": "2022-06-18T21:07:14.577677Z",
     "shell.execute_reply": "2022-06-18T21:07:14.576802Z"
    },
    "papermill": {
     "duration": 0.404543,
     "end_time": "2022-06-18T21:07:14.579906",
     "exception": false,
     "start_time": "2022-06-18T21:07:14.175363",
     "status": "completed"
    },
    "tags": []
   },
   "outputs": [],
   "source": [
    "from tempfile import mkdtemp\n",
    "import os.path as path\n",
    "from sklearn.impute import KNNImputer"
   ]
  },
  {
   "cell_type": "code",
   "execution_count": 32,
   "id": "93d31c30",
   "metadata": {
    "execution": {
     "iopub.execute_input": "2022-06-18T21:07:14.676350Z",
     "iopub.status.busy": "2022-06-18T21:07:14.675667Z",
     "iopub.status.idle": "2022-06-18T21:07:14.681405Z",
     "shell.execute_reply": "2022-06-18T21:07:14.680428Z"
    },
    "papermill": {
     "duration": 0.082455,
     "end_time": "2022-06-18T21:07:14.683544",
     "exception": false,
     "start_time": "2022-06-18T21:07:14.601089",
     "status": "completed"
    },
    "tags": []
   },
   "outputs": [],
   "source": [
    "filename = path.join(mkdtemp(), 'dataset.dat')"
   ]
  },
  {
   "cell_type": "code",
   "execution_count": 33,
   "id": "69611ab2",
   "metadata": {
    "execution": {
     "iopub.execute_input": "2022-06-18T21:07:14.725560Z",
     "iopub.status.busy": "2022-06-18T21:07:14.725144Z",
     "iopub.status.idle": "2022-06-18T21:07:14.734904Z",
     "shell.execute_reply": "2022-06-18T21:07:14.733948Z"
    },
    "papermill": {
     "duration": 0.033401,
     "end_time": "2022-06-18T21:07:14.737072",
     "exception": false,
     "start_time": "2022-06-18T21:07:14.703671",
     "status": "completed"
    },
    "tags": []
   },
   "outputs": [
    {
     "data": {
      "text/plain": [
       "memmap([[0., 0., 0., ..., 0., 0., 0.],\n",
       "        [0., 0., 0., ..., 0., 0., 0.],\n",
       "        [0., 0., 0., ..., 0., 0., 0.],\n",
       "        ...,\n",
       "        [0., 0., 0., ..., 0., 0., 0.],\n",
       "        [0., 0., 0., ..., 0., 0., 0.],\n",
       "        [0., 0., 0., ..., 0., 0., 0.]], dtype=float32)"
      ]
     },
     "execution_count": 33,
     "metadata": {},
     "output_type": "execute_result"
    }
   ],
   "source": [
    "fpx = np.memmap(filename, dtype='float32', mode='w+', shape=(80,364774))\n",
    "fpx"
   ]
  },
  {
   "cell_type": "code",
   "execution_count": 34,
   "id": "ae7013e2",
   "metadata": {
    "execution": {
     "iopub.execute_input": "2022-06-18T21:07:14.779405Z",
     "iopub.status.busy": "2022-06-18T21:07:14.779016Z",
     "iopub.status.idle": "2022-06-18T21:07:15.030573Z",
     "shell.execute_reply": "2022-06-18T21:07:15.029675Z"
    },
    "papermill": {
     "duration": 0.27528,
     "end_time": "2022-06-18T21:07:15.032742",
     "exception": false,
     "start_time": "2022-06-18T21:07:14.757462",
     "status": "completed"
    },
    "tags": []
   },
   "outputs": [
    {
     "data": {
      "text/plain": [
       "memmap([[ 5.332100e-01, -3.349350e-01,  1.441700e-01, ..., -7.691060e-01,\n",
       "         -1.709886e+00, -8.063800e-01],\n",
       "        [ 1.662285e+00, -8.019400e-01, -5.801500e-01, ..., -3.873630e-01,\n",
       "         -8.137850e-01, -2.525100e-02],\n",
       "        [ 6.011380e-01, -7.543640e-01, -8.967800e-01, ..., -1.227469e+00,\n",
       "         -1.866536e+00, -8.754770e-01],\n",
       "        ...,\n",
       "        [ 1.835678e+00, -9.663510e-01,  1.674981e+00, ...,  1.903850e-01,\n",
       "         -1.085554e+00,  2.334131e+00],\n",
       "        [-6.408681e+00,  8.995950e-01, -1.291278e+00, ..., -3.441120e-01,\n",
       "          3.122423e+00,  5.425421e+00],\n",
       "        [ 5.389170e-01, -3.750500e-02,  5.532470e-01, ..., -3.468070e-01,\n",
       "          4.831000e-03, -8.288470e-01]], dtype=float32)"
      ]
     },
     "execution_count": 34,
     "metadata": {},
     "output_type": "execute_result"
    }
   ],
   "source": [
    "fpx[:] = data[:]\n",
    "fpx"
   ]
  },
  {
   "cell_type": "code",
   "execution_count": 35,
   "id": "0db3f0d0",
   "metadata": {
    "execution": {
     "iopub.execute_input": "2022-06-18T21:07:15.075212Z",
     "iopub.status.busy": "2022-06-18T21:07:15.074793Z",
     "iopub.status.idle": "2022-06-18T21:07:15.127742Z",
     "shell.execute_reply": "2022-06-18T21:07:15.126680Z"
    },
    "papermill": {
     "duration": 0.077158,
     "end_time": "2022-06-18T21:07:15.130039",
     "exception": false,
     "start_time": "2022-06-18T21:07:15.052881",
     "status": "completed"
    },
    "tags": []
   },
   "outputs": [
    {
     "data": {
      "text/plain": [
       "361130"
      ]
     },
     "execution_count": 35,
     "metadata": {},
     "output_type": "execute_result"
    }
   ],
   "source": [
    "np.isnan(fpx).sum()"
   ]
  },
  {
   "cell_type": "code",
   "execution_count": 36,
   "id": "b648f930",
   "metadata": {
    "execution": {
     "iopub.execute_input": "2022-06-18T21:07:15.173051Z",
     "iopub.status.busy": "2022-06-18T21:07:15.172650Z",
     "iopub.status.idle": "2022-06-18T21:07:15.880403Z",
     "shell.execute_reply": "2022-06-18T21:07:15.879635Z"
    },
    "papermill": {
     "duration": 0.731674,
     "end_time": "2022-06-18T21:07:15.882330",
     "exception": false,
     "start_time": "2022-06-18T21:07:15.150656",
     "status": "completed"
    },
    "tags": []
   },
   "outputs": [],
   "source": [
    "fpx.flush()"
   ]
  },
  {
   "cell_type": "code",
   "execution_count": 37,
   "id": "7ab52ab7",
   "metadata": {
    "execution": {
     "iopub.execute_input": "2022-06-18T21:07:15.925650Z",
     "iopub.status.busy": "2022-06-18T21:07:15.925045Z",
     "iopub.status.idle": "2022-06-18T21:08:29.510026Z",
     "shell.execute_reply": "2022-06-18T21:08:29.509172Z"
    },
    "papermill": {
     "duration": 73.608991,
     "end_time": "2022-06-18T21:08:29.512199",
     "exception": false,
     "start_time": "2022-06-18T21:07:15.903208",
     "status": "completed"
    },
    "tags": []
   },
   "outputs": [],
   "source": [
    "imputer = KNNImputer(n_neighbors = 7)\n",
    "imputer.fit(fpx)\n",
    "npfx = imputer.transform(fpx) "
   ]
  },
  {
   "cell_type": "code",
   "execution_count": 38,
   "id": "f438c785",
   "metadata": {
    "execution": {
     "iopub.execute_input": "2022-06-18T21:08:29.555289Z",
     "iopub.status.busy": "2022-06-18T21:08:29.554287Z",
     "iopub.status.idle": "2022-06-18T21:08:29.560270Z",
     "shell.execute_reply": "2022-06-18T21:08:29.559415Z"
    },
    "papermill": {
     "duration": 0.029193,
     "end_time": "2022-06-18T21:08:29.562130",
     "exception": false,
     "start_time": "2022-06-18T21:08:29.532937",
     "status": "completed"
    },
    "tags": []
   },
   "outputs": [
    {
     "data": {
      "text/plain": [
       "array([[ 5.332100e-01, -3.349350e-01,  1.441700e-01, ..., -7.691060e-01,\n",
       "        -1.709886e+00, -8.063800e-01],\n",
       "       [ 1.662285e+00, -8.019400e-01, -5.801500e-01, ..., -3.873630e-01,\n",
       "        -8.137850e-01, -2.525100e-02],\n",
       "       [ 6.011380e-01, -7.543640e-01, -8.967800e-01, ..., -1.227469e+00,\n",
       "        -1.866536e+00, -8.754770e-01],\n",
       "       ...,\n",
       "       [ 1.835678e+00, -9.663510e-01,  1.674981e+00, ...,  1.903850e-01,\n",
       "        -1.085554e+00,  2.334131e+00],\n",
       "       [-6.408681e+00,  8.995950e-01, -1.291278e+00, ..., -3.441120e-01,\n",
       "         3.122423e+00,  5.425421e+00],\n",
       "       [ 5.389170e-01, -3.750500e-02,  5.532470e-01, ..., -3.468070e-01,\n",
       "         4.831000e-03, -8.288470e-01]], dtype=float32)"
      ]
     },
     "execution_count": 38,
     "metadata": {},
     "output_type": "execute_result"
    }
   ],
   "source": [
    "npfx"
   ]
  },
  {
   "cell_type": "code",
   "execution_count": 39,
   "id": "32178805",
   "metadata": {
    "execution": {
     "iopub.execute_input": "2022-06-18T21:08:29.604348Z",
     "iopub.status.busy": "2022-06-18T21:08:29.603972Z",
     "iopub.status.idle": "2022-06-18T21:08:29.653787Z",
     "shell.execute_reply": "2022-06-18T21:08:29.652900Z"
    },
    "papermill": {
     "duration": 0.073339,
     "end_time": "2022-06-18T21:08:29.655903",
     "exception": false,
     "start_time": "2022-06-18T21:08:29.582564",
     "status": "completed"
    },
    "tags": []
   },
   "outputs": [
    {
     "data": {
      "text/plain": [
       "0"
      ]
     },
     "execution_count": 39,
     "metadata": {},
     "output_type": "execute_result"
    }
   ],
   "source": [
    "np.isnan(npfx).sum()"
   ]
  },
  {
   "cell_type": "code",
   "execution_count": 40,
   "id": "1d7d7365",
   "metadata": {
    "execution": {
     "iopub.execute_input": "2022-06-18T21:08:29.698765Z",
     "iopub.status.busy": "2022-06-18T21:08:29.698142Z",
     "iopub.status.idle": "2022-06-18T21:08:30.175676Z",
     "shell.execute_reply": "2022-06-18T21:08:30.174696Z"
    },
    "papermill": {
     "duration": 0.501505,
     "end_time": "2022-06-18T21:08:30.177815",
     "exception": false,
     "start_time": "2022-06-18T21:08:29.676310",
     "status": "completed"
    },
    "tags": []
   },
   "outputs": [
    {
     "data": {
      "text/plain": [
       "0.1590035873338794"
      ]
     },
     "execution_count": 40,
     "metadata": {},
     "output_type": "execute_result"
    }
   ],
   "source": [
    "from sklearn.metrics import mean_squared_error, confusion_matrix\n",
    "np.sqrt(mean_squared_error(npfx,res_data))"
   ]
  },
  {
   "cell_type": "code",
   "execution_count": 41,
   "id": "100ee60c",
   "metadata": {
    "execution": {
     "iopub.execute_input": "2022-06-18T21:08:30.221115Z",
     "iopub.status.busy": "2022-06-18T21:08:30.220717Z",
     "iopub.status.idle": "2022-06-18T21:08:30.669563Z",
     "shell.execute_reply": "2022-06-18T21:08:30.668613Z"
    },
    "papermill": {
     "duration": 0.473313,
     "end_time": "2022-06-18T21:08:30.671763",
     "exception": false,
     "start_time": "2022-06-18T21:08:30.198450",
     "status": "completed"
    },
    "tags": []
   },
   "outputs": [
    {
     "data": {
      "text/plain": [
       "array([[-3.545910e-01,  1.380940e+00,  2.560230e-01, ...,  1.475340e-01,\n",
       "        -1.709886e+00, -8.063800e-01],\n",
       "       [-4.640380e-01, -4.996260e-01, -1.059874e+00, ..., -7.152760e-01,\n",
       "        -8.137850e-01, -2.525100e-02],\n",
       "       [ 2.304115e+00, -4.185480e-01,           nan, ..., -4.650490e-01,\n",
       "        -1.866536e+00, -8.754770e-01],\n",
       "       ...,\n",
       "       [ 3.809505e+00, -4.218259e+00, -2.131747e+00, ..., -5.841080e-01,\n",
       "        -1.085554e+00,  2.334131e+00],\n",
       "       [ 1.236486e+00, -2.724883e+00,  3.661499e+00, ..., -1.492096e+00,\n",
       "         3.122423e+00,  5.425421e+00],\n",
       "       [ 1.182055e+00, -6.377500e-02, -1.315760e-01, ..., -9.975020e-01,\n",
       "         4.831000e-03, -8.288470e-01]])"
      ]
     },
     "execution_count": 41,
     "metadata": {},
     "output_type": "execute_result"
    }
   ],
   "source": [
    "finalset = df.drop('nan_val_count',axis=1).T.to_numpy()\n",
    "finalset"
   ]
  },
  {
   "cell_type": "code",
   "execution_count": 42,
   "id": "4c5f11f9",
   "metadata": {
    "execution": {
     "iopub.execute_input": "2022-06-18T21:08:30.714996Z",
     "iopub.status.busy": "2022-06-18T21:08:30.714625Z",
     "iopub.status.idle": "2022-06-18T21:11:43.244478Z",
     "shell.execute_reply": "2022-06-18T21:11:43.243182Z"
    },
    "papermill": {
     "duration": 192.556218,
     "end_time": "2022-06-18T21:11:43.248663",
     "exception": false,
     "start_time": "2022-06-18T21:08:30.692445",
     "status": "completed"
    },
    "tags": []
   },
   "outputs": [],
   "source": [
    "imputer.fit(finalset)\n",
    "nf =  imputer.transform(finalset)"
   ]
  },
  {
   "cell_type": "code",
   "execution_count": 43,
   "id": "ec9e77b8",
   "metadata": {
    "execution": {
     "iopub.execute_input": "2022-06-18T21:11:43.295477Z",
     "iopub.status.busy": "2022-06-18T21:11:43.294423Z",
     "iopub.status.idle": "2022-06-18T21:11:43.302402Z",
     "shell.execute_reply": "2022-06-18T21:11:43.301711Z"
    },
    "papermill": {
     "duration": 0.032443,
     "end_time": "2022-06-18T21:11:43.304245",
     "exception": false,
     "start_time": "2022-06-18T21:11:43.271802",
     "status": "completed"
    },
    "tags": []
   },
   "outputs": [
    {
     "data": {
      "text/plain": [
       "array([[-3.54591000e-01,  1.38094000e+00,  2.56023000e-01, ...,\n",
       "         1.47534000e-01, -1.70988600e+00, -8.06380000e-01],\n",
       "       [-4.64038000e-01, -4.99626000e-01, -1.05987400e+00, ...,\n",
       "        -7.15276000e-01, -8.13785000e-01, -2.52510000e-02],\n",
       "       [ 2.30411500e+00, -4.18548000e-01, -2.34670714e-01, ...,\n",
       "        -4.65049000e-01, -1.86653600e+00, -8.75477000e-01],\n",
       "       ...,\n",
       "       [ 3.80950500e+00, -4.21825900e+00, -2.13174700e+00, ...,\n",
       "        -5.84108000e-01, -1.08555400e+00,  2.33413100e+00],\n",
       "       [ 1.23648600e+00, -2.72488300e+00,  3.66149900e+00, ...,\n",
       "        -1.49209600e+00,  3.12242300e+00,  5.42542100e+00],\n",
       "       [ 1.18205500e+00, -6.37750000e-02, -1.31576000e-01, ...,\n",
       "        -9.97502000e-01,  4.83100000e-03, -8.28847000e-01]])"
      ]
     },
     "execution_count": 43,
     "metadata": {},
     "output_type": "execute_result"
    }
   ],
   "source": [
    "nf"
   ]
  },
  {
   "cell_type": "code",
   "execution_count": 44,
   "id": "329f18bf",
   "metadata": {
    "execution": {
     "iopub.execute_input": "2022-06-18T21:11:43.349561Z",
     "iopub.status.busy": "2022-06-18T21:11:43.348954Z",
     "iopub.status.idle": "2022-06-18T21:11:43.352699Z",
     "shell.execute_reply": "2022-06-18T21:11:43.352011Z"
    },
    "papermill": {
     "duration": 0.028814,
     "end_time": "2022-06-18T21:11:43.354423",
     "exception": false,
     "start_time": "2022-06-18T21:11:43.325609",
     "status": "completed"
    },
    "tags": []
   },
   "outputs": [],
   "source": [
    "nf.shape\n",
    "nf = nf.reshape(80,1000000)"
   ]
  },
  {
   "cell_type": "code",
   "execution_count": 45,
   "id": "a9232e9b",
   "metadata": {
    "execution": {
     "iopub.execute_input": "2022-06-18T21:11:43.399064Z",
     "iopub.status.busy": "2022-06-18T21:11:43.398383Z",
     "iopub.status.idle": "2022-06-18T21:11:43.610792Z",
     "shell.execute_reply": "2022-06-18T21:11:43.609803Z"
    },
    "papermill": {
     "duration": 0.237461,
     "end_time": "2022-06-18T21:11:43.613154",
     "exception": false,
     "start_time": "2022-06-18T21:11:43.375693",
     "status": "completed"
    },
    "tags": []
   },
   "outputs": [],
   "source": [
    "ans = pd.DataFrame(nf,index=list(df.drop('nan_val_count',axis=1).columns))"
   ]
  },
  {
   "cell_type": "code",
   "execution_count": 46,
   "id": "068a9c77",
   "metadata": {
    "execution": {
     "iopub.execute_input": "2022-06-18T21:11:43.656733Z",
     "iopub.status.busy": "2022-06-18T21:11:43.656330Z",
     "iopub.status.idle": "2022-06-18T21:11:43.698865Z",
     "shell.execute_reply": "2022-06-18T21:11:43.697923Z"
    },
    "papermill": {
     "duration": 0.066995,
     "end_time": "2022-06-18T21:11:43.700982",
     "exception": false,
     "start_time": "2022-06-18T21:11:43.633987",
     "status": "completed"
    },
    "tags": []
   },
   "outputs": [
    {
     "data": {
      "text/html": [
       "<div>\n",
       "<style scoped>\n",
       "    .dataframe tbody tr th:only-of-type {\n",
       "        vertical-align: middle;\n",
       "    }\n",
       "\n",
       "    .dataframe tbody tr th {\n",
       "        vertical-align: top;\n",
       "    }\n",
       "\n",
       "    .dataframe thead th {\n",
       "        text-align: right;\n",
       "    }\n",
       "</style>\n",
       "<table border=\"1\" class=\"dataframe\">\n",
       "  <thead>\n",
       "    <tr style=\"text-align: right;\">\n",
       "      <th></th>\n",
       "      <th>0</th>\n",
       "      <th>1</th>\n",
       "      <th>2</th>\n",
       "      <th>3</th>\n",
       "      <th>4</th>\n",
       "      <th>5</th>\n",
       "      <th>6</th>\n",
       "      <th>7</th>\n",
       "      <th>8</th>\n",
       "      <th>9</th>\n",
       "      <th>...</th>\n",
       "      <th>999990</th>\n",
       "      <th>999991</th>\n",
       "      <th>999992</th>\n",
       "      <th>999993</th>\n",
       "      <th>999994</th>\n",
       "      <th>999995</th>\n",
       "      <th>999996</th>\n",
       "      <th>999997</th>\n",
       "      <th>999998</th>\n",
       "      <th>999999</th>\n",
       "    </tr>\n",
       "  </thead>\n",
       "  <tbody>\n",
       "    <tr>\n",
       "      <th>F_1_0</th>\n",
       "      <td>-0.354591</td>\n",
       "      <td>1.380940</td>\n",
       "      <td>0.256023</td>\n",
       "      <td>-0.728420</td>\n",
       "      <td>0.590212</td>\n",
       "      <td>0.088609</td>\n",
       "      <td>0.533210</td>\n",
       "      <td>-1.737332</td>\n",
       "      <td>-0.334935</td>\n",
       "      <td>0.144170</td>\n",
       "      <td>...</td>\n",
       "      <td>1.227262</td>\n",
       "      <td>-0.091164</td>\n",
       "      <td>-2.379389</td>\n",
       "      <td>-0.299765</td>\n",
       "      <td>0.147997</td>\n",
       "      <td>-0.823740</td>\n",
       "      <td>-0.769106</td>\n",
       "      <td>0.147534</td>\n",
       "      <td>-1.709886</td>\n",
       "      <td>-0.806380</td>\n",
       "    </tr>\n",
       "    <tr>\n",
       "      <th>F_1_1</th>\n",
       "      <td>-0.464038</td>\n",
       "      <td>-0.499626</td>\n",
       "      <td>-1.059874</td>\n",
       "      <td>-2.432399</td>\n",
       "      <td>-0.066127</td>\n",
       "      <td>-0.082815</td>\n",
       "      <td>1.662285</td>\n",
       "      <td>-1.009690</td>\n",
       "      <td>-0.801940</td>\n",
       "      <td>-0.580150</td>\n",
       "      <td>...</td>\n",
       "      <td>1.605984</td>\n",
       "      <td>-0.422000</td>\n",
       "      <td>-2.490550</td>\n",
       "      <td>0.491257</td>\n",
       "      <td>1.022144</td>\n",
       "      <td>0.285673</td>\n",
       "      <td>-0.387363</td>\n",
       "      <td>-0.715276</td>\n",
       "      <td>-0.813785</td>\n",
       "      <td>-0.025251</td>\n",
       "    </tr>\n",
       "    <tr>\n",
       "      <th>F_1_2</th>\n",
       "      <td>2.304115</td>\n",
       "      <td>-0.418548</td>\n",
       "      <td>-0.234671</td>\n",
       "      <td>-2.453602</td>\n",
       "      <td>0.468009</td>\n",
       "      <td>0.270489</td>\n",
       "      <td>0.601138</td>\n",
       "      <td>0.294162</td>\n",
       "      <td>-0.754364</td>\n",
       "      <td>-0.896780</td>\n",
       "      <td>...</td>\n",
       "      <td>0.349811</td>\n",
       "      <td>0.492146</td>\n",
       "      <td>-1.926716</td>\n",
       "      <td>-0.558802</td>\n",
       "      <td>-0.442716</td>\n",
       "      <td>0.343307</td>\n",
       "      <td>-1.227469</td>\n",
       "      <td>-0.465049</td>\n",
       "      <td>-1.866536</td>\n",
       "      <td>-0.875477</td>\n",
       "    </tr>\n",
       "    <tr>\n",
       "      <th>F_1_3</th>\n",
       "      <td>0.734486</td>\n",
       "      <td>1.911725</td>\n",
       "      <td>0.345678</td>\n",
       "      <td>-0.020509</td>\n",
       "      <td>-1.096038</td>\n",
       "      <td>0.251012</td>\n",
       "      <td>-0.662212</td>\n",
       "      <td>1.002915</td>\n",
       "      <td>-0.369206</td>\n",
       "      <td>-0.550178</td>\n",
       "      <td>...</td>\n",
       "      <td>1.432343</td>\n",
       "      <td>-0.964732</td>\n",
       "      <td>1.182715</td>\n",
       "      <td>0.914719</td>\n",
       "      <td>-1.882994</td>\n",
       "      <td>-0.436747</td>\n",
       "      <td>0.601183</td>\n",
       "      <td>-1.988941</td>\n",
       "      <td>-0.179420</td>\n",
       "      <td>0.802440</td>\n",
       "    </tr>\n",
       "    <tr>\n",
       "      <th>F_1_4</th>\n",
       "      <td>1.696395</td>\n",
       "      <td>-0.826130</td>\n",
       "      <td>1.513814</td>\n",
       "      <td>0.333397</td>\n",
       "      <td>0.119399</td>\n",
       "      <td>0.280627</td>\n",
       "      <td>0.033856</td>\n",
       "      <td>0.700551</td>\n",
       "      <td>0.781484</td>\n",
       "      <td>1.231237</td>\n",
       "      <td>...</td>\n",
       "      <td>0.923957</td>\n",
       "      <td>0.315943</td>\n",
       "      <td>-0.005418</td>\n",
       "      <td>-1.086924</td>\n",
       "      <td>1.501444</td>\n",
       "      <td>1.700549</td>\n",
       "      <td>0.351161</td>\n",
       "      <td>-1.594535</td>\n",
       "      <td>2.231478</td>\n",
       "      <td>0.889492</td>\n",
       "    </tr>\n",
       "  </tbody>\n",
       "</table>\n",
       "<p>5 rows × 1000000 columns</p>\n",
       "</div>"
      ],
      "text/plain": [
       "         0         1         2         3         4         5         6       \\\n",
       "F_1_0 -0.354591  1.380940  0.256023 -0.728420  0.590212  0.088609  0.533210   \n",
       "F_1_1 -0.464038 -0.499626 -1.059874 -2.432399 -0.066127 -0.082815  1.662285   \n",
       "F_1_2  2.304115 -0.418548 -0.234671 -2.453602  0.468009  0.270489  0.601138   \n",
       "F_1_3  0.734486  1.911725  0.345678 -0.020509 -1.096038  0.251012 -0.662212   \n",
       "F_1_4  1.696395 -0.826130  1.513814  0.333397  0.119399  0.280627  0.033856   \n",
       "\n",
       "         7         8         9       ...    999990    999991    999992  \\\n",
       "F_1_0 -1.737332 -0.334935  0.144170  ...  1.227262 -0.091164 -2.379389   \n",
       "F_1_1 -1.009690 -0.801940 -0.580150  ...  1.605984 -0.422000 -2.490550   \n",
       "F_1_2  0.294162 -0.754364 -0.896780  ...  0.349811  0.492146 -1.926716   \n",
       "F_1_3  1.002915 -0.369206 -0.550178  ...  1.432343 -0.964732  1.182715   \n",
       "F_1_4  0.700551  0.781484  1.231237  ...  0.923957  0.315943 -0.005418   \n",
       "\n",
       "         999993    999994    999995    999996    999997    999998    999999  \n",
       "F_1_0 -0.299765  0.147997 -0.823740 -0.769106  0.147534 -1.709886 -0.806380  \n",
       "F_1_1  0.491257  1.022144  0.285673 -0.387363 -0.715276 -0.813785 -0.025251  \n",
       "F_1_2 -0.558802 -0.442716  0.343307 -1.227469 -0.465049 -1.866536 -0.875477  \n",
       "F_1_3  0.914719 -1.882994 -0.436747  0.601183 -1.988941 -0.179420  0.802440  \n",
       "F_1_4 -1.086924  1.501444  1.700549  0.351161 -1.594535  2.231478  0.889492  \n",
       "\n",
       "[5 rows x 1000000 columns]"
      ]
     },
     "execution_count": 46,
     "metadata": {},
     "output_type": "execute_result"
    }
   ],
   "source": [
    "ans.head()"
   ]
  },
  {
   "cell_type": "code",
   "execution_count": 47,
   "id": "c9aba7cf",
   "metadata": {
    "execution": {
     "iopub.execute_input": "2022-06-18T21:11:43.746570Z",
     "iopub.status.busy": "2022-06-18T21:11:43.746140Z",
     "iopub.status.idle": "2022-06-18T21:11:43.758712Z",
     "shell.execute_reply": "2022-06-18T21:11:43.757678Z"
    },
    "papermill": {
     "duration": 0.037547,
     "end_time": "2022-06-18T21:11:43.760575",
     "exception": false,
     "start_time": "2022-06-18T21:11:43.723028",
     "status": "completed"
    },
    "tags": []
   },
   "outputs": [
    {
     "data": {
      "text/html": [
       "<div>\n",
       "<style scoped>\n",
       "    .dataframe tbody tr th:only-of-type {\n",
       "        vertical-align: middle;\n",
       "    }\n",
       "\n",
       "    .dataframe tbody tr th {\n",
       "        vertical-align: top;\n",
       "    }\n",
       "\n",
       "    .dataframe thead th {\n",
       "        text-align: right;\n",
       "    }\n",
       "</style>\n",
       "<table border=\"1\" class=\"dataframe\">\n",
       "  <thead>\n",
       "    <tr style=\"text-align: right;\">\n",
       "      <th></th>\n",
       "      <th>row-col</th>\n",
       "      <th>value</th>\n",
       "    </tr>\n",
       "  </thead>\n",
       "  <tbody>\n",
       "    <tr>\n",
       "      <th>0</th>\n",
       "      <td>0-F_1_14</td>\n",
       "      <td>0.0</td>\n",
       "    </tr>\n",
       "    <tr>\n",
       "      <th>1</th>\n",
       "      <td>0-F_3_23</td>\n",
       "      <td>0.0</td>\n",
       "    </tr>\n",
       "    <tr>\n",
       "      <th>2</th>\n",
       "      <td>1-F_3_24</td>\n",
       "      <td>0.0</td>\n",
       "    </tr>\n",
       "    <tr>\n",
       "      <th>3</th>\n",
       "      <td>2-F_1_2</td>\n",
       "      <td>0.0</td>\n",
       "    </tr>\n",
       "    <tr>\n",
       "      <th>4</th>\n",
       "      <td>2-F_4_2</td>\n",
       "      <td>0.0</td>\n",
       "    </tr>\n",
       "    <tr>\n",
       "      <th>...</th>\n",
       "      <td>...</td>\n",
       "      <td>...</td>\n",
       "    </tr>\n",
       "    <tr>\n",
       "      <th>999995</th>\n",
       "      <td>999993-F_4_2</td>\n",
       "      <td>0.0</td>\n",
       "    </tr>\n",
       "    <tr>\n",
       "      <th>999996</th>\n",
       "      <td>999994-F_3_10</td>\n",
       "      <td>0.0</td>\n",
       "    </tr>\n",
       "    <tr>\n",
       "      <th>999997</th>\n",
       "      <td>999994-F_4_9</td>\n",
       "      <td>0.0</td>\n",
       "    </tr>\n",
       "    <tr>\n",
       "      <th>999998</th>\n",
       "      <td>999997-F_3_14</td>\n",
       "      <td>0.0</td>\n",
       "    </tr>\n",
       "    <tr>\n",
       "      <th>999999</th>\n",
       "      <td>999997-F_4_8</td>\n",
       "      <td>0.0</td>\n",
       "    </tr>\n",
       "  </tbody>\n",
       "</table>\n",
       "<p>1000000 rows × 2 columns</p>\n",
       "</div>"
      ],
      "text/plain": [
       "              row-col  value\n",
       "0            0-F_1_14    0.0\n",
       "1            0-F_3_23    0.0\n",
       "2            1-F_3_24    0.0\n",
       "3             2-F_1_2    0.0\n",
       "4             2-F_4_2    0.0\n",
       "...               ...    ...\n",
       "999995   999993-F_4_2    0.0\n",
       "999996  999994-F_3_10    0.0\n",
       "999997   999994-F_4_9    0.0\n",
       "999998  999997-F_3_14    0.0\n",
       "999999   999997-F_4_8    0.0\n",
       "\n",
       "[1000000 rows x 2 columns]"
      ]
     },
     "execution_count": 47,
     "metadata": {},
     "output_type": "execute_result"
    }
   ],
   "source": [
    "res"
   ]
  },
  {
   "cell_type": "code",
   "execution_count": 48,
   "id": "c8ab04ef",
   "metadata": {
    "execution": {
     "iopub.execute_input": "2022-06-18T21:11:43.805467Z",
     "iopub.status.busy": "2022-06-18T21:11:43.804835Z",
     "iopub.status.idle": "2022-06-18T21:11:43.810483Z",
     "shell.execute_reply": "2022-06-18T21:11:43.809652Z"
    },
    "papermill": {
     "duration": 0.030471,
     "end_time": "2022-06-18T21:11:43.812452",
     "exception": false,
     "start_time": "2022-06-18T21:11:43.781981",
     "status": "completed"
    },
    "tags": []
   },
   "outputs": [
    {
     "data": {
      "text/plain": [
       "('F_1_14', 0)"
      ]
     },
     "execution_count": 48,
     "metadata": {},
     "output_type": "execute_result"
    }
   ],
   "source": [
    "str='0-F_1_14'\n",
    "x= str.split(\"-\")\n",
    "x[1], int(x[0])"
   ]
  },
  {
   "cell_type": "code",
   "execution_count": 49,
   "id": "5723f402",
   "metadata": {
    "execution": {
     "iopub.execute_input": "2022-06-18T21:11:43.856979Z",
     "iopub.status.busy": "2022-06-18T21:11:43.856370Z",
     "iopub.status.idle": "2022-06-18T21:17:13.961693Z",
     "shell.execute_reply": "2022-06-18T21:17:13.960683Z"
    },
    "papermill": {
     "duration": 330.130753,
     "end_time": "2022-06-18T21:17:13.964478",
     "exception": false,
     "start_time": "2022-06-18T21:11:43.833725",
     "status": "completed"
    },
    "tags": []
   },
   "outputs": [
    {
     "name": "stderr",
     "output_type": "stream",
     "text": [
      "/opt/conda/lib/python3.7/site-packages/ipykernel_launcher.py:4: SettingWithCopyWarning: \n",
      "A value is trying to be set on a copy of a slice from a DataFrame\n",
      "\n",
      "See the caveats in the documentation: https://pandas.pydata.org/pandas-docs/stable/user_guide/indexing.html#returning-a-view-versus-a-copy\n",
      "  after removing the cwd from sys.path.\n"
     ]
    }
   ],
   "source": [
    "for i,col,val in zip(range(res.shape[0]),res['row-col'],res['value']):\n",
    "    x = col.split(\"-\")\n",
    "    val = ans.loc[x[1],int(x[0])]\n",
    "    res['value'][i] = val\n",
    "    "
   ]
  },
  {
   "cell_type": "code",
   "execution_count": 50,
   "id": "cf2c3fbd",
   "metadata": {
    "execution": {
     "iopub.execute_input": "2022-06-18T21:17:14.014835Z",
     "iopub.status.busy": "2022-06-18T21:17:14.014005Z",
     "iopub.status.idle": "2022-06-18T21:17:14.030370Z",
     "shell.execute_reply": "2022-06-18T21:17:14.029284Z"
    },
    "papermill": {
     "duration": 0.043927,
     "end_time": "2022-06-18T21:17:14.032422",
     "exception": false,
     "start_time": "2022-06-18T21:17:13.988495",
     "status": "completed"
    },
    "tags": []
   },
   "outputs": [
    {
     "data": {
      "text/html": [
       "<div>\n",
       "<style scoped>\n",
       "    .dataframe tbody tr th:only-of-type {\n",
       "        vertical-align: middle;\n",
       "    }\n",
       "\n",
       "    .dataframe tbody tr th {\n",
       "        vertical-align: top;\n",
       "    }\n",
       "\n",
       "    .dataframe thead th {\n",
       "        text-align: right;\n",
       "    }\n",
       "</style>\n",
       "<table border=\"1\" class=\"dataframe\">\n",
       "  <thead>\n",
       "    <tr style=\"text-align: right;\">\n",
       "      <th></th>\n",
       "      <th>row-col</th>\n",
       "      <th>value</th>\n",
       "    </tr>\n",
       "  </thead>\n",
       "  <tbody>\n",
       "    <tr>\n",
       "      <th>0</th>\n",
       "      <td>0-F_1_14</td>\n",
       "      <td>0.366867</td>\n",
       "    </tr>\n",
       "    <tr>\n",
       "      <th>1</th>\n",
       "      <td>0-F_3_23</td>\n",
       "      <td>0.366867</td>\n",
       "    </tr>\n",
       "    <tr>\n",
       "      <th>2</th>\n",
       "      <td>1-F_3_24</td>\n",
       "      <td>-0.111688</td>\n",
       "    </tr>\n",
       "    <tr>\n",
       "      <th>3</th>\n",
       "      <td>2-F_1_2</td>\n",
       "      <td>-0.234671</td>\n",
       "    </tr>\n",
       "    <tr>\n",
       "      <th>4</th>\n",
       "      <td>2-F_4_2</td>\n",
       "      <td>-0.303159</td>\n",
       "    </tr>\n",
       "    <tr>\n",
       "      <th>...</th>\n",
       "      <td>...</td>\n",
       "      <td>...</td>\n",
       "    </tr>\n",
       "    <tr>\n",
       "      <th>999995</th>\n",
       "      <td>999993-F_4_2</td>\n",
       "      <td>0.384893</td>\n",
       "    </tr>\n",
       "    <tr>\n",
       "      <th>999996</th>\n",
       "      <td>999994-F_3_10</td>\n",
       "      <td>0.045120</td>\n",
       "    </tr>\n",
       "    <tr>\n",
       "      <th>999997</th>\n",
       "      <td>999994-F_4_9</td>\n",
       "      <td>0.190936</td>\n",
       "    </tr>\n",
       "    <tr>\n",
       "      <th>999998</th>\n",
       "      <td>999997-F_3_14</td>\n",
       "      <td>-0.603940</td>\n",
       "    </tr>\n",
       "    <tr>\n",
       "      <th>999999</th>\n",
       "      <td>999997-F_4_8</td>\n",
       "      <td>-0.503027</td>\n",
       "    </tr>\n",
       "  </tbody>\n",
       "</table>\n",
       "<p>1000000 rows × 2 columns</p>\n",
       "</div>"
      ],
      "text/plain": [
       "              row-col     value\n",
       "0            0-F_1_14  0.366867\n",
       "1            0-F_3_23  0.366867\n",
       "2            1-F_3_24 -0.111688\n",
       "3             2-F_1_2 -0.234671\n",
       "4             2-F_4_2 -0.303159\n",
       "...               ...       ...\n",
       "999995   999993-F_4_2  0.384893\n",
       "999996  999994-F_3_10  0.045120\n",
       "999997   999994-F_4_9  0.190936\n",
       "999998  999997-F_3_14 -0.603940\n",
       "999999   999997-F_4_8 -0.503027\n",
       "\n",
       "[1000000 rows x 2 columns]"
      ]
     },
     "execution_count": 50,
     "metadata": {},
     "output_type": "execute_result"
    }
   ],
   "source": [
    "res"
   ]
  },
  {
   "cell_type": "code",
   "execution_count": 51,
   "id": "5662ad0c",
   "metadata": {
    "execution": {
     "iopub.execute_input": "2022-06-18T21:17:14.084159Z",
     "iopub.status.busy": "2022-06-18T21:17:14.083361Z",
     "iopub.status.idle": "2022-06-18T21:17:16.577367Z",
     "shell.execute_reply": "2022-06-18T21:17:16.576642Z"
    },
    "papermill": {
     "duration": 2.520755,
     "end_time": "2022-06-18T21:17:16.579568",
     "exception": false,
     "start_time": "2022-06-18T21:17:14.058813",
     "status": "completed"
    },
    "tags": []
   },
   "outputs": [],
   "source": [
    "res.to_csv('submission',index = False)"
   ]
  },
  {
   "cell_type": "markdown",
   "id": "cb1b781e",
   "metadata": {
    "papermill": {
     "duration": 0.021049,
     "end_time": "2022-06-18T21:17:16.622854",
     "exception": false,
     "start_time": "2022-06-18T21:17:16.601805",
     "status": "completed"
    },
    "tags": []
   },
   "source": []
  },
  {
   "cell_type": "code",
   "execution_count": null,
   "id": "d70e1dfe",
   "metadata": {
    "papermill": {
     "duration": 0.021594,
     "end_time": "2022-06-18T21:17:16.665750",
     "exception": false,
     "start_time": "2022-06-18T21:17:16.644156",
     "status": "completed"
    },
    "tags": []
   },
   "outputs": [],
   "source": []
  }
 ],
 "metadata": {
  "kernelspec": {
   "display_name": "Python 3",
   "language": "python",
   "name": "python3"
  },
  "language_info": {
   "codemirror_mode": {
    "name": "ipython",
    "version": 3
   },
   "file_extension": ".py",
   "mimetype": "text/x-python",
   "name": "python",
   "nbconvert_exporter": "python",
   "pygments_lexer": "ipython3",
   "version": "3.7.12"
  },
  "papermill": {
   "default_parameters": {},
   "duration": 730.342804,
   "end_time": "2022-06-18T21:17:19.308930",
   "environment_variables": {},
   "exception": null,
   "input_path": "__notebook__.ipynb",
   "output_path": "__notebook__.ipynb",
   "parameters": {},
   "start_time": "2022-06-18T21:05:08.966126",
   "version": "2.3.4"
  }
 },
 "nbformat": 4,
 "nbformat_minor": 5
}
